{
 "cells": [
  {
   "cell_type": "markdown",
   "metadata": {},
   "source": [
    "# Building a Model to Predict Housing Prices\n",
    "\n",
    "**Vladyslav Honcharuk**"
   ]
  },
  {
   "cell_type": "markdown",
   "metadata": {},
   "source": [
    "# [Index](#Index)\n",
    "\n",
    "- [Abstract](#Abstract)\n",
    "- [1. Introduction](#1.-Introduction)\n",
    "- [2. The Data](#2.-The-Data)\n",
    "    - [2.1 Import the Data](#2.1-Import-the-Data)\n",
    "    - [2.2 Data Exploration](#2.2-Data-Exploration)\n",
    "    - [2.3 Data Preparation](#2.3-Data-Preparation)\n",
    "    - [2.4 Correlation](#2.4-Correlation)\n",
    "- [3. Project Description](#3.-Project-Description)\n",
    "    - [3.1 Linear Regression](#3.1-Linear-Regression)\n",
    "    - [3.2 Analysis](#3.2-Analysis)\n",
    "    - [3.3 Results](#3.3-Results)\n",
    "    - [3.4 Verify Your Model Against Test Data](#3.4-Verify-Your-Model-Against-Test-Data)\n",
    "- [Conclusion](#Conclusion)\n",
    "- [References](#References)"
   ]
  },
  {
   "cell_type": "markdown",
   "metadata": {},
   "source": [
    "[Back to top](#Index)\n",
    "\n",
    "##  Abstract"
   ]
  },
  {
   "cell_type": "markdown",
   "metadata": {},
   "source": [
    "Determining the price of the house can be really useful when you buy one, you want to buy a house as cheap and as good at the same time as possible, but how to pay a real price for what you get. Machine Learning eases the process of determining the real price of the house, based on the data of properties of different houses and their price you can predict the price of the house with your desired properties. I have build a Machine Learning model to predict the price of the house and accomplished a score of almost 80% correctness of the prediction. To get such score the thorough data cleaning is needed and the right ML algorithm has to be chosen. I use the Linear Regression algorithm that allows to determine the value of the dependent target property based on the independent features."
   ]
  },
  {
   "cell_type": "markdown",
   "metadata": {},
   "source": [
    "[Back to top](#Index)\n",
    "\n",
    "\n",
    "## 1. Introduction"
   ]
  },
  {
   "cell_type": "markdown",
   "metadata": {},
   "source": [
    "The main goal of my project is to buid a model to predict housing prices with the help of Linear Regression, a linear model that assumes a linear relationship between independent variables and a dependent variable. Throughout the project I performed 3 main tasks - explored the dataset to become familiar with it, showed some overall and statistical insights and ploted several graphs, prepared the data by deleting and imputing the missing values, deleted redundant properties and discarded the outliers, built a correlation heatmap to discover the most correlated with the target property properties. Finally, I have described in detail what a Linear Regression is, built many models with different amount of variables for multi linear regression to find out the best one on a train set, and then used this model to predict the price of houses from the test set."
   ]
  },
  {
   "cell_type": "markdown",
   "metadata": {},
   "source": [
    "[Back to top](#Index)\n",
    "\n",
    "## 2. The Data"
   ]
  },
  {
   "cell_type": "markdown",
   "metadata": {},
   "source": [
    "[Back to top](#Index)\n",
    "\n",
    "### 2.1 Import the Data\n"
   ]
  },
  {
   "cell_type": "markdown",
   "metadata": {},
   "source": [
    "The first step of my project is to include all the necessary libraries that give some additional functionality to the Python programming language."
   ]
  },
  {
   "cell_type": "code",
   "execution_count": 1,
   "metadata": {},
   "outputs": [],
   "source": [
    "import warnings\n",
    "warnings.filterwarnings('ignore')\n",
    "\n",
    "import numpy as np\n",
    "import pandas as pd\n",
    "import matplotlib.pyplot as plt\n",
    "import seaborn as sns\n",
    "from sklearn import linear_model\n",
    "from scipy import stats"
   ]
  },
  {
   "cell_type": "markdown",
   "metadata": {},
   "source": [
    "Next I am importing my dataset that is stored in a CSV file called houseSmallData. This is a dataset that contain different properties of houses and their price. Below are the top 5 instances of the dataset with their properties."
   ]
  },
  {
   "cell_type": "code",
   "execution_count": 2,
   "metadata": {},
   "outputs": [
    {
     "data": {
      "text/html": [
       "<div>\n",
       "<style scoped>\n",
       "    .dataframe tbody tr th:only-of-type {\n",
       "        vertical-align: middle;\n",
       "    }\n",
       "\n",
       "    .dataframe tbody tr th {\n",
       "        vertical-align: top;\n",
       "    }\n",
       "\n",
       "    .dataframe thead th {\n",
       "        text-align: right;\n",
       "    }\n",
       "</style>\n",
       "<table border=\"1\" class=\"dataframe\">\n",
       "  <thead>\n",
       "    <tr style=\"text-align: right;\">\n",
       "      <th></th>\n",
       "      <th>Unnamed: 0</th>\n",
       "      <th>Id</th>\n",
       "      <th>MSSubClass</th>\n",
       "      <th>MSZoning</th>\n",
       "      <th>LotFrontage</th>\n",
       "      <th>LotArea</th>\n",
       "      <th>Street</th>\n",
       "      <th>Alley</th>\n",
       "      <th>LotShape</th>\n",
       "      <th>LandContour</th>\n",
       "      <th>...</th>\n",
       "      <th>PoolArea</th>\n",
       "      <th>PoolQC</th>\n",
       "      <th>Fence</th>\n",
       "      <th>MiscFeature</th>\n",
       "      <th>MiscVal</th>\n",
       "      <th>MoSold</th>\n",
       "      <th>YrSold</th>\n",
       "      <th>SaleType</th>\n",
       "      <th>SaleCondition</th>\n",
       "      <th>SalePrice</th>\n",
       "    </tr>\n",
       "  </thead>\n",
       "  <tbody>\n",
       "    <tr>\n",
       "      <th>0</th>\n",
       "      <td>0</td>\n",
       "      <td>1</td>\n",
       "      <td>60</td>\n",
       "      <td>RL</td>\n",
       "      <td>65.0</td>\n",
       "      <td>8450</td>\n",
       "      <td>Pave</td>\n",
       "      <td>NaN</td>\n",
       "      <td>Reg</td>\n",
       "      <td>Lvl</td>\n",
       "      <td>...</td>\n",
       "      <td>0</td>\n",
       "      <td>NaN</td>\n",
       "      <td>NaN</td>\n",
       "      <td>NaN</td>\n",
       "      <td>0</td>\n",
       "      <td>2</td>\n",
       "      <td>2008</td>\n",
       "      <td>WD</td>\n",
       "      <td>Normal</td>\n",
       "      <td>208500</td>\n",
       "    </tr>\n",
       "    <tr>\n",
       "      <th>1</th>\n",
       "      <td>1</td>\n",
       "      <td>2</td>\n",
       "      <td>20</td>\n",
       "      <td>RL</td>\n",
       "      <td>80.0</td>\n",
       "      <td>9600</td>\n",
       "      <td>Pave</td>\n",
       "      <td>NaN</td>\n",
       "      <td>Reg</td>\n",
       "      <td>Lvl</td>\n",
       "      <td>...</td>\n",
       "      <td>0</td>\n",
       "      <td>NaN</td>\n",
       "      <td>NaN</td>\n",
       "      <td>NaN</td>\n",
       "      <td>0</td>\n",
       "      <td>5</td>\n",
       "      <td>2007</td>\n",
       "      <td>WD</td>\n",
       "      <td>Normal</td>\n",
       "      <td>181500</td>\n",
       "    </tr>\n",
       "    <tr>\n",
       "      <th>2</th>\n",
       "      <td>2</td>\n",
       "      <td>3</td>\n",
       "      <td>60</td>\n",
       "      <td>RL</td>\n",
       "      <td>68.0</td>\n",
       "      <td>11250</td>\n",
       "      <td>Pave</td>\n",
       "      <td>NaN</td>\n",
       "      <td>IR1</td>\n",
       "      <td>Lvl</td>\n",
       "      <td>...</td>\n",
       "      <td>0</td>\n",
       "      <td>NaN</td>\n",
       "      <td>NaN</td>\n",
       "      <td>NaN</td>\n",
       "      <td>0</td>\n",
       "      <td>9</td>\n",
       "      <td>2008</td>\n",
       "      <td>WD</td>\n",
       "      <td>Normal</td>\n",
       "      <td>223500</td>\n",
       "    </tr>\n",
       "    <tr>\n",
       "      <th>3</th>\n",
       "      <td>3</td>\n",
       "      <td>4</td>\n",
       "      <td>70</td>\n",
       "      <td>RL</td>\n",
       "      <td>60.0</td>\n",
       "      <td>9550</td>\n",
       "      <td>Pave</td>\n",
       "      <td>NaN</td>\n",
       "      <td>IR1</td>\n",
       "      <td>Lvl</td>\n",
       "      <td>...</td>\n",
       "      <td>0</td>\n",
       "      <td>NaN</td>\n",
       "      <td>NaN</td>\n",
       "      <td>NaN</td>\n",
       "      <td>0</td>\n",
       "      <td>2</td>\n",
       "      <td>2006</td>\n",
       "      <td>WD</td>\n",
       "      <td>Abnorml</td>\n",
       "      <td>140000</td>\n",
       "    </tr>\n",
       "    <tr>\n",
       "      <th>4</th>\n",
       "      <td>4</td>\n",
       "      <td>5</td>\n",
       "      <td>60</td>\n",
       "      <td>RL</td>\n",
       "      <td>84.0</td>\n",
       "      <td>14260</td>\n",
       "      <td>Pave</td>\n",
       "      <td>NaN</td>\n",
       "      <td>IR1</td>\n",
       "      <td>Lvl</td>\n",
       "      <td>...</td>\n",
       "      <td>0</td>\n",
       "      <td>NaN</td>\n",
       "      <td>NaN</td>\n",
       "      <td>NaN</td>\n",
       "      <td>0</td>\n",
       "      <td>12</td>\n",
       "      <td>2008</td>\n",
       "      <td>WD</td>\n",
       "      <td>Normal</td>\n",
       "      <td>250000</td>\n",
       "    </tr>\n",
       "    <tr>\n",
       "      <th>...</th>\n",
       "      <td>...</td>\n",
       "      <td>...</td>\n",
       "      <td>...</td>\n",
       "      <td>...</td>\n",
       "      <td>...</td>\n",
       "      <td>...</td>\n",
       "      <td>...</td>\n",
       "      <td>...</td>\n",
       "      <td>...</td>\n",
       "      <td>...</td>\n",
       "      <td>...</td>\n",
       "      <td>...</td>\n",
       "      <td>...</td>\n",
       "      <td>...</td>\n",
       "      <td>...</td>\n",
       "      <td>...</td>\n",
       "      <td>...</td>\n",
       "      <td>...</td>\n",
       "      <td>...</td>\n",
       "      <td>...</td>\n",
       "      <td>...</td>\n",
       "    </tr>\n",
       "    <tr>\n",
       "      <th>95</th>\n",
       "      <td>95</td>\n",
       "      <td>96</td>\n",
       "      <td>60</td>\n",
       "      <td>RL</td>\n",
       "      <td>NaN</td>\n",
       "      <td>9765</td>\n",
       "      <td>Pave</td>\n",
       "      <td>NaN</td>\n",
       "      <td>IR2</td>\n",
       "      <td>Lvl</td>\n",
       "      <td>...</td>\n",
       "      <td>0</td>\n",
       "      <td>NaN</td>\n",
       "      <td>NaN</td>\n",
       "      <td>Shed</td>\n",
       "      <td>480</td>\n",
       "      <td>4</td>\n",
       "      <td>2009</td>\n",
       "      <td>WD</td>\n",
       "      <td>Normal</td>\n",
       "      <td>185000</td>\n",
       "    </tr>\n",
       "    <tr>\n",
       "      <th>96</th>\n",
       "      <td>96</td>\n",
       "      <td>97</td>\n",
       "      <td>20</td>\n",
       "      <td>RL</td>\n",
       "      <td>78.0</td>\n",
       "      <td>10264</td>\n",
       "      <td>Pave</td>\n",
       "      <td>NaN</td>\n",
       "      <td>IR1</td>\n",
       "      <td>Lvl</td>\n",
       "      <td>...</td>\n",
       "      <td>0</td>\n",
       "      <td>NaN</td>\n",
       "      <td>NaN</td>\n",
       "      <td>NaN</td>\n",
       "      <td>0</td>\n",
       "      <td>8</td>\n",
       "      <td>2006</td>\n",
       "      <td>WD</td>\n",
       "      <td>Normal</td>\n",
       "      <td>214000</td>\n",
       "    </tr>\n",
       "    <tr>\n",
       "      <th>97</th>\n",
       "      <td>97</td>\n",
       "      <td>98</td>\n",
       "      <td>20</td>\n",
       "      <td>RL</td>\n",
       "      <td>73.0</td>\n",
       "      <td>10921</td>\n",
       "      <td>Pave</td>\n",
       "      <td>NaN</td>\n",
       "      <td>Reg</td>\n",
       "      <td>HLS</td>\n",
       "      <td>...</td>\n",
       "      <td>0</td>\n",
       "      <td>NaN</td>\n",
       "      <td>NaN</td>\n",
       "      <td>NaN</td>\n",
       "      <td>0</td>\n",
       "      <td>5</td>\n",
       "      <td>2007</td>\n",
       "      <td>WD</td>\n",
       "      <td>Normal</td>\n",
       "      <td>94750</td>\n",
       "    </tr>\n",
       "    <tr>\n",
       "      <th>98</th>\n",
       "      <td>98</td>\n",
       "      <td>99</td>\n",
       "      <td>30</td>\n",
       "      <td>RL</td>\n",
       "      <td>85.0</td>\n",
       "      <td>10625</td>\n",
       "      <td>Pave</td>\n",
       "      <td>NaN</td>\n",
       "      <td>Reg</td>\n",
       "      <td>Lvl</td>\n",
       "      <td>...</td>\n",
       "      <td>0</td>\n",
       "      <td>NaN</td>\n",
       "      <td>NaN</td>\n",
       "      <td>Shed</td>\n",
       "      <td>400</td>\n",
       "      <td>5</td>\n",
       "      <td>2010</td>\n",
       "      <td>COD</td>\n",
       "      <td>Abnorml</td>\n",
       "      <td>83000</td>\n",
       "    </tr>\n",
       "    <tr>\n",
       "      <th>99</th>\n",
       "      <td>99</td>\n",
       "      <td>100</td>\n",
       "      <td>20</td>\n",
       "      <td>RL</td>\n",
       "      <td>77.0</td>\n",
       "      <td>9320</td>\n",
       "      <td>Pave</td>\n",
       "      <td>NaN</td>\n",
       "      <td>IR1</td>\n",
       "      <td>Lvl</td>\n",
       "      <td>...</td>\n",
       "      <td>0</td>\n",
       "      <td>NaN</td>\n",
       "      <td>NaN</td>\n",
       "      <td>Shed</td>\n",
       "      <td>400</td>\n",
       "      <td>1</td>\n",
       "      <td>2010</td>\n",
       "      <td>WD</td>\n",
       "      <td>Normal</td>\n",
       "      <td>128950</td>\n",
       "    </tr>\n",
       "  </tbody>\n",
       "</table>\n",
       "<p>100 rows × 82 columns</p>\n",
       "</div>"
      ],
      "text/plain": [
       "    Unnamed: 0   Id  MSSubClass MSZoning  LotFrontage  LotArea Street Alley  \\\n",
       "0            0    1          60       RL         65.0     8450   Pave   NaN   \n",
       "1            1    2          20       RL         80.0     9600   Pave   NaN   \n",
       "2            2    3          60       RL         68.0    11250   Pave   NaN   \n",
       "3            3    4          70       RL         60.0     9550   Pave   NaN   \n",
       "4            4    5          60       RL         84.0    14260   Pave   NaN   \n",
       "..         ...  ...         ...      ...          ...      ...    ...   ...   \n",
       "95          95   96          60       RL          NaN     9765   Pave   NaN   \n",
       "96          96   97          20       RL         78.0    10264   Pave   NaN   \n",
       "97          97   98          20       RL         73.0    10921   Pave   NaN   \n",
       "98          98   99          30       RL         85.0    10625   Pave   NaN   \n",
       "99          99  100          20       RL         77.0     9320   Pave   NaN   \n",
       "\n",
       "   LotShape LandContour  ... PoolArea PoolQC Fence MiscFeature MiscVal MoSold  \\\n",
       "0       Reg         Lvl  ...        0    NaN   NaN         NaN       0      2   \n",
       "1       Reg         Lvl  ...        0    NaN   NaN         NaN       0      5   \n",
       "2       IR1         Lvl  ...        0    NaN   NaN         NaN       0      9   \n",
       "3       IR1         Lvl  ...        0    NaN   NaN         NaN       0      2   \n",
       "4       IR1         Lvl  ...        0    NaN   NaN         NaN       0     12   \n",
       "..      ...         ...  ...      ...    ...   ...         ...     ...    ...   \n",
       "95      IR2         Lvl  ...        0    NaN   NaN        Shed     480      4   \n",
       "96      IR1         Lvl  ...        0    NaN   NaN         NaN       0      8   \n",
       "97      Reg         HLS  ...        0    NaN   NaN         NaN       0      5   \n",
       "98      Reg         Lvl  ...        0    NaN   NaN        Shed     400      5   \n",
       "99      IR1         Lvl  ...        0    NaN   NaN        Shed     400      1   \n",
       "\n",
       "   YrSold SaleType  SaleCondition  SalePrice  \n",
       "0    2008       WD         Normal     208500  \n",
       "1    2007       WD         Normal     181500  \n",
       "2    2008       WD         Normal     223500  \n",
       "3    2006       WD        Abnorml     140000  \n",
       "4    2008       WD         Normal     250000  \n",
       "..    ...      ...            ...        ...  \n",
       "95   2009       WD         Normal     185000  \n",
       "96   2006       WD         Normal     214000  \n",
       "97   2007       WD         Normal      94750  \n",
       "98   2010      COD        Abnorml      83000  \n",
       "99   2010       WD         Normal     128950  \n",
       "\n",
       "[100 rows x 82 columns]"
      ]
     },
     "execution_count": 2,
     "metadata": {},
     "output_type": "execute_result"
    }
   ],
   "source": [
    "data = pd.read_csv('houseSmallData.csv')\n",
    "\n",
    "data"
   ]
  },
  {
   "cell_type": "markdown",
   "metadata": {},
   "source": [
    "Before working with a dataset it's important to know what the names of the properties mean and what are the values they can store. Below are all of the properties with explanation of what data they contain and corresponding possible values they can represent. Also I removed the description of possible values of nominal vaues as I will not be using them in my project.\n",
    "\n",
    "MSSubClass: Identifies the type of dwelling involved in the sale.\t\n",
    "\n",
    "        20\t1-STORY 1946 & NEWER ALL STYLES\n",
    "        30\t1-STORY 1945 & OLDER\n",
    "        40\t1-STORY W/FINISHED ATTIC ALL AGES\n",
    "        45\t1-1/2 STORY - UNFINISHED ALL AGES\n",
    "        50\t1-1/2 STORY FINISHED ALL AGES\n",
    "        60\t2-STORY 1946 & NEWER\n",
    "        70\t2-STORY 1945 & OLDER\n",
    "        75\t2-1/2 STORY ALL AGES\n",
    "        80\tSPLIT OR MULTI-LEVEL\n",
    "        85\tSPLIT FOYER\n",
    "        90\tDUPLEX - ALL STYLES AND AGES\n",
    "       120\t1-STORY PUD (Planned Unit Development) - 1946 & NEWER\n",
    "       150\t1-1/2 STORY PUD - ALL AGES\n",
    "       160\t2-STORY PUD - 1946 & NEWER\n",
    "       180\tPUD - MULTILEVEL - INCL SPLIT LEV/FOYER\n",
    "       190\t2 FAMILY CONVERSION - ALL STYLES AND AGES\n",
    "\n",
    "MSZoning: Identifies the general zoning classification of the sale.\n",
    "\t\n",
    "LotFrontage: Linear feet of street connected to property\n",
    "\n",
    "LotArea: Lot size in square feet\n",
    "\n",
    "Street: Type of road access to property\n",
    "\n",
    "Alley: Type of alley access to property\n",
    "\t\t\n",
    "LotShape: General shape of property\n",
    "       \n",
    "LandContour: Flatness of the property\n",
    "\t\t\n",
    "Utilities: Type of utilities available\n",
    "\t\n",
    "LotConfig: Lot configuration\n",
    "\n",
    "LandSlope: Slope of property\n",
    "\t\t\n",
    "Neighborhood: Physical locations within Ames city limits\n",
    "\n",
    "Condition1: Proximity to various conditions\n",
    "\n",
    "Condition2: Proximity to various conditions (if more than one is present)\n",
    "\n",
    "BldgType: Type of dwelling\n",
    "\t\t\n",
    "\t\n",
    "HouseStyle: Style of dwelling\n",
    "\t\n",
    "OverallQual: Rates the overall material and finish of the house\n",
    "\n",
    "       10\tVery Excellent\n",
    "       9\tExcellent\n",
    "       8\tVery Good\n",
    "       7\tGood\n",
    "       6\tAbove Average\n",
    "       5\tAverage\n",
    "       4\tBelow Average\n",
    "       3\tFair\n",
    "       2\tPoor\n",
    "       1\tVery Poor\n",
    "\t\n",
    "OverallCond: Rates the overall condition of the house\n",
    "\n",
    "       10\tVery Excellent\n",
    "       9\tExcellent\n",
    "       8\tVery Good\n",
    "       7\tGood\n",
    "       6\tAbove Average\t\n",
    "       5\tAverage\n",
    "       4\tBelow Average\t\n",
    "       3\tFair\n",
    "       2\tPoor\n",
    "       1\tVery Poor\n",
    "\t\t\n",
    "YearBuilt: Original construction date\n",
    "\n",
    "YearRemodAdd: Remodel date (same as construction date if no remodeling or additions)\n",
    "\n",
    "RoofStyle: Type of roof\n",
    "\t\t\n",
    "RoofMatl: Roof material\n",
    "\n",
    "Exterior1st: Exterior covering on house\n",
    "\n",
    "Exterior2nd: Exterior covering on house (if more than one material)\n",
    "\n",
    "MasVnrType: Masonry veneer type\n",
    "\n",
    "MasVnrArea: Masonry veneer area in square feet\n",
    "\n",
    "ExterQual: Evaluates the quality of the material on the exterior \n",
    "\t\t\n",
    "ExterCond: Evaluates the present condition of the material on the exterior\n",
    "\t\t\n",
    "Foundation: Type of foundation\n",
    "\t\t\n",
    "BsmtQual: Evaluates the height of the basement\n",
    "\n",
    "BsmtCond: Evaluates the general condition of the basement\n",
    "\n",
    "BsmtExposure: Refers to walkout or garden level walls\n",
    "\n",
    "BsmtFinType1: Rating of basement finished area\n",
    "\t\t\n",
    "BsmtFinSF1: Type 1 finished square feet\n",
    "\n",
    "BsmtFinType2: Rating of basement finished area (if multiple types)\n",
    "\n",
    "BsmtFinSF2: Type 2 finished square feet\n",
    "\n",
    "BsmtUnfSF: Unfinished square feet of basement area\n",
    "\n",
    "TotalBsmtSF: Total square feet of basement area\n",
    "\n",
    "Heating: Type of heating\n",
    "\t\t\n",
    "HeatingQC: Heating quality and condition\n",
    "\n",
    "CentralAir: Central air conditioning\n",
    "\n",
    "Electrical: Electrical system\n",
    "\n",
    "1stFlrSF: First Floor square feet\n",
    " \n",
    "2ndFlrSF: Second floor square feet\n",
    "\n",
    "LowQualFinSF: Low quality finished square feet (all floors)\n",
    "\n",
    "GrLivArea: Above grade (ground) living area square feet\n",
    "\n",
    "BsmtFullBath: Basement full bathrooms\n",
    "\n",
    "BsmtHalfBath: Basement half bathrooms\n",
    "\n",
    "FullBath: Full bathrooms above grade\n",
    "\n",
    "HalfBath: Half baths above grade\n",
    "\n",
    "Bedroom: Bedrooms above grade (does NOT include basement bedrooms)\n",
    "\n",
    "Kitchen: Kitchens above grade\n",
    "\n",
    "KitchenQual: Kitchen quality\n",
    "       \t\n",
    "TotRmsAbvGrd: Total rooms above grade (does not include bathrooms)\n",
    "\n",
    "Functional: Home functionality (Assume typical unless deductions are warranted)\n",
    "\t\t\n",
    "Fireplaces: Number of fireplaces\n",
    "\n",
    "FireplaceQu: Fireplace quality\n",
    "\t\t\n",
    "GarageType: Garage location\n",
    "\n",
    "GarageYrBlt: Year garage was built\n",
    "\t\t\n",
    "GarageFinish: Interior finish of the garage\n",
    "\n",
    "GarageCars: Size of garage in car capacity\n",
    "\n",
    "GarageArea: Size of garage in square feet\n",
    "\n",
    "GarageQual: Garage quality\n",
    "\t\t\n",
    "GarageCond: Garage condition\n",
    "\n",
    "PavedDrive: Paved driveway\n",
    "\n",
    "WoodDeckSF: Wood deck area in square feet\n",
    "\n",
    "OpenPorchSF: Open porch area in square feet\n",
    "\n",
    "EnclosedPorch: Enclosed porch area in square feet\n",
    "\n",
    "3SsnPorch: Three season porch area in square feet\n",
    "\n",
    "ScreenPorch: Screen porch area in square feet\n",
    "\n",
    "PoolArea: Pool area in square feet\n",
    "\n",
    "PoolQC: Pool quality\n",
    "\t\t\n",
    "Fence: Fence quality\n",
    "\t\t\n",
    "MiscFeature: Miscellaneous feature not covered in other categories\n",
    "\t\t\n",
    "MiscVal: $Value of miscellaneous feature\n",
    "\n",
    "MoSold: Month Sold (MM)\n",
    "\n",
    "YrSold: Year Sold (YYYY)\n",
    "\n",
    "SaleType: Type of sale\n",
    "\t\t\n",
    "SaleCondition: Condition of sale"
   ]
  },
  {
   "cell_type": "markdown",
   "metadata": {},
   "source": [
    "Lets have a look at some overall and statistical infomation about dataset."
   ]
  },
  {
   "cell_type": "code",
   "execution_count": 3,
   "metadata": {},
   "outputs": [
    {
     "name": "stdout",
     "output_type": "stream",
     "text": [
      "<class 'pandas.core.frame.DataFrame'>\n",
      "RangeIndex: 100 entries, 0 to 99\n",
      "Data columns (total 82 columns):\n",
      " #   Column         Non-Null Count  Dtype  \n",
      "---  ------         --------------  -----  \n",
      " 0   Unnamed: 0     100 non-null    int64  \n",
      " 1   Id             100 non-null    int64  \n",
      " 2   MSSubClass     100 non-null    int64  \n",
      " 3   MSZoning       100 non-null    object \n",
      " 4   LotFrontage    86 non-null     float64\n",
      " 5   LotArea        100 non-null    int64  \n",
      " 6   Street         100 non-null    object \n",
      " 7   Alley          6 non-null      object \n",
      " 8   LotShape       100 non-null    object \n",
      " 9   LandContour    100 non-null    object \n",
      " 10  Utilities      100 non-null    object \n",
      " 11  LotConfig      100 non-null    object \n",
      " 12  LandSlope      100 non-null    object \n",
      " 13  Neighborhood   100 non-null    object \n",
      " 14  Condition1     100 non-null    object \n",
      " 15  Condition2     100 non-null    object \n",
      " 16  BldgType       100 non-null    object \n",
      " 17  HouseStyle     100 non-null    object \n",
      " 18  OverallQual    100 non-null    int64  \n",
      " 19  OverallCond    100 non-null    int64  \n",
      " 20  YearBuilt      100 non-null    int64  \n",
      " 21  YearRemodAdd   100 non-null    int64  \n",
      " 22  RoofStyle      100 non-null    object \n",
      " 23  RoofMatl       100 non-null    object \n",
      " 24  Exterior1st    100 non-null    object \n",
      " 25  Exterior2nd    100 non-null    object \n",
      " 26  MasVnrType     100 non-null    object \n",
      " 27  MasVnrArea     100 non-null    float64\n",
      " 28  ExterQual      100 non-null    object \n",
      " 29  ExterCond      100 non-null    object \n",
      " 30  Foundation     100 non-null    object \n",
      " 31  BsmtQual       97 non-null     object \n",
      " 32  BsmtCond       97 non-null     object \n",
      " 33  BsmtExposure   97 non-null     object \n",
      " 34  BsmtFinType1   97 non-null     object \n",
      " 35  BsmtFinSF1     100 non-null    int64  \n",
      " 36  BsmtFinType2   97 non-null     object \n",
      " 37  BsmtFinSF2     100 non-null    int64  \n",
      " 38  BsmtUnfSF      100 non-null    int64  \n",
      " 39  TotalBsmtSF    100 non-null    int64  \n",
      " 40  Heating        100 non-null    object \n",
      " 41  HeatingQC      100 non-null    object \n",
      " 42  CentralAir     100 non-null    object \n",
      " 43  Electrical     100 non-null    object \n",
      " 44  1stFlrSF       100 non-null    int64  \n",
      " 45  2ndFlrSF       100 non-null    int64  \n",
      " 46  LowQualFinSF   100 non-null    int64  \n",
      " 47  GrLivArea      100 non-null    int64  \n",
      " 48  BsmtFullBath   100 non-null    int64  \n",
      " 49  BsmtHalfBath   100 non-null    int64  \n",
      " 50  FullBath       100 non-null    int64  \n",
      " 51  HalfBath       100 non-null    int64  \n",
      " 52  BedroomAbvGr   100 non-null    int64  \n",
      " 53  KitchenAbvGr   100 non-null    int64  \n",
      " 54  KitchenQual    100 non-null    object \n",
      " 55  TotRmsAbvGrd   100 non-null    int64  \n",
      " 56  Functional     100 non-null    object \n",
      " 57  Fireplaces     100 non-null    int64  \n",
      " 58  FireplaceQu    46 non-null     object \n",
      " 59  GarageType     94 non-null     object \n",
      " 60  GarageYrBlt    94 non-null     float64\n",
      " 61  GarageFinish   94 non-null     object \n",
      " 62  GarageCars     100 non-null    int64  \n",
      " 63  GarageArea     100 non-null    int64  \n",
      " 64  GarageQual     94 non-null     object \n",
      " 65  GarageCond     94 non-null     object \n",
      " 66  PavedDrive     100 non-null    object \n",
      " 67  WoodDeckSF     100 non-null    int64  \n",
      " 68  OpenPorchSF    100 non-null    int64  \n",
      " 69  EnclosedPorch  100 non-null    int64  \n",
      " 70  3SsnPorch      100 non-null    int64  \n",
      " 71  ScreenPorch    100 non-null    int64  \n",
      " 72  PoolArea       100 non-null    int64  \n",
      " 73  PoolQC         0 non-null      float64\n",
      " 74  Fence          23 non-null     object \n",
      " 75  MiscFeature    9 non-null      object \n",
      " 76  MiscVal        100 non-null    int64  \n",
      " 77  MoSold         100 non-null    int64  \n",
      " 78  YrSold         100 non-null    int64  \n",
      " 79  SaleType       100 non-null    object \n",
      " 80  SaleCondition  100 non-null    object \n",
      " 81  SalePrice      100 non-null    int64  \n",
      "dtypes: float64(4), int64(36), object(42)\n",
      "memory usage: 64.2+ KB\n"
     ]
    }
   ],
   "source": [
    "data.info()"
   ]
  },
  {
   "cell_type": "code",
   "execution_count": 4,
   "metadata": {},
   "outputs": [
    {
     "data": {
      "text/html": [
       "<div>\n",
       "<style scoped>\n",
       "    .dataframe tbody tr th:only-of-type {\n",
       "        vertical-align: middle;\n",
       "    }\n",
       "\n",
       "    .dataframe tbody tr th {\n",
       "        vertical-align: top;\n",
       "    }\n",
       "\n",
       "    .dataframe thead th {\n",
       "        text-align: right;\n",
       "    }\n",
       "</style>\n",
       "<table border=\"1\" class=\"dataframe\">\n",
       "  <thead>\n",
       "    <tr style=\"text-align: right;\">\n",
       "      <th></th>\n",
       "      <th>count</th>\n",
       "      <th>mean</th>\n",
       "      <th>std</th>\n",
       "      <th>min</th>\n",
       "      <th>25%</th>\n",
       "      <th>50%</th>\n",
       "      <th>75%</th>\n",
       "      <th>max</th>\n",
       "    </tr>\n",
       "  </thead>\n",
       "  <tbody>\n",
       "    <tr>\n",
       "      <th>Unnamed: 0</th>\n",
       "      <td>100.0</td>\n",
       "      <td>49.500000</td>\n",
       "      <td>29.011492</td>\n",
       "      <td>0.0</td>\n",
       "      <td>24.75</td>\n",
       "      <td>49.5</td>\n",
       "      <td>74.25</td>\n",
       "      <td>99.0</td>\n",
       "    </tr>\n",
       "    <tr>\n",
       "      <th>Id</th>\n",
       "      <td>100.0</td>\n",
       "      <td>50.500000</td>\n",
       "      <td>29.011492</td>\n",
       "      <td>1.0</td>\n",
       "      <td>25.75</td>\n",
       "      <td>50.5</td>\n",
       "      <td>75.25</td>\n",
       "      <td>100.0</td>\n",
       "    </tr>\n",
       "    <tr>\n",
       "      <th>MSSubClass</th>\n",
       "      <td>100.0</td>\n",
       "      <td>52.000000</td>\n",
       "      <td>42.545282</td>\n",
       "      <td>20.0</td>\n",
       "      <td>20.00</td>\n",
       "      <td>45.0</td>\n",
       "      <td>60.00</td>\n",
       "      <td>190.0</td>\n",
       "    </tr>\n",
       "    <tr>\n",
       "      <th>LotFrontage</th>\n",
       "      <td>86.0</td>\n",
       "      <td>71.406977</td>\n",
       "      <td>21.093840</td>\n",
       "      <td>21.0</td>\n",
       "      <td>60.00</td>\n",
       "      <td>70.0</td>\n",
       "      <td>84.00</td>\n",
       "      <td>122.0</td>\n",
       "    </tr>\n",
       "    <tr>\n",
       "      <th>LotArea</th>\n",
       "      <td>100.0</td>\n",
       "      <td>10115.870000</td>\n",
       "      <td>5130.541763</td>\n",
       "      <td>1596.0</td>\n",
       "      <td>7643.25</td>\n",
       "      <td>9595.5</td>\n",
       "      <td>11243.25</td>\n",
       "      <td>50271.0</td>\n",
       "    </tr>\n",
       "    <tr>\n",
       "      <th>OverallQual</th>\n",
       "      <td>100.0</td>\n",
       "      <td>5.980000</td>\n",
       "      <td>1.530696</td>\n",
       "      <td>3.0</td>\n",
       "      <td>5.00</td>\n",
       "      <td>6.0</td>\n",
       "      <td>7.00</td>\n",
       "      <td>10.0</td>\n",
       "    </tr>\n",
       "    <tr>\n",
       "      <th>OverallCond</th>\n",
       "      <td>100.0</td>\n",
       "      <td>5.500000</td>\n",
       "      <td>0.979590</td>\n",
       "      <td>2.0</td>\n",
       "      <td>5.00</td>\n",
       "      <td>5.0</td>\n",
       "      <td>6.00</td>\n",
       "      <td>8.0</td>\n",
       "    </tr>\n",
       "    <tr>\n",
       "      <th>YearBuilt</th>\n",
       "      <td>100.0</td>\n",
       "      <td>1971.410000</td>\n",
       "      <td>29.373284</td>\n",
       "      <td>1910.0</td>\n",
       "      <td>1954.75</td>\n",
       "      <td>1970.0</td>\n",
       "      <td>2000.25</td>\n",
       "      <td>2009.0</td>\n",
       "    </tr>\n",
       "    <tr>\n",
       "      <th>YearRemodAdd</th>\n",
       "      <td>100.0</td>\n",
       "      <td>1983.920000</td>\n",
       "      <td>20.967353</td>\n",
       "      <td>1950.0</td>\n",
       "      <td>1964.75</td>\n",
       "      <td>1994.0</td>\n",
       "      <td>2003.25</td>\n",
       "      <td>2009.0</td>\n",
       "    </tr>\n",
       "    <tr>\n",
       "      <th>MasVnrArea</th>\n",
       "      <td>100.0</td>\n",
       "      <td>121.640000</td>\n",
       "      <td>213.553982</td>\n",
       "      <td>0.0</td>\n",
       "      <td>0.00</td>\n",
       "      <td>0.0</td>\n",
       "      <td>188.50</td>\n",
       "      <td>1115.0</td>\n",
       "    </tr>\n",
       "    <tr>\n",
       "      <th>BsmtFinSF1</th>\n",
       "      <td>100.0</td>\n",
       "      <td>454.560000</td>\n",
       "      <td>462.034922</td>\n",
       "      <td>0.0</td>\n",
       "      <td>0.00</td>\n",
       "      <td>416.0</td>\n",
       "      <td>737.50</td>\n",
       "      <td>1880.0</td>\n",
       "    </tr>\n",
       "    <tr>\n",
       "      <th>BsmtFinSF2</th>\n",
       "      <td>100.0</td>\n",
       "      <td>33.910000</td>\n",
       "      <td>131.575158</td>\n",
       "      <td>0.0</td>\n",
       "      <td>0.00</td>\n",
       "      <td>0.0</td>\n",
       "      <td>0.00</td>\n",
       "      <td>712.0</td>\n",
       "    </tr>\n",
       "    <tr>\n",
       "      <th>BsmtUnfSF</th>\n",
       "      <td>100.0</td>\n",
       "      <td>558.790000</td>\n",
       "      <td>448.599196</td>\n",
       "      <td>0.0</td>\n",
       "      <td>203.00</td>\n",
       "      <td>440.0</td>\n",
       "      <td>820.00</td>\n",
       "      <td>1777.0</td>\n",
       "    </tr>\n",
       "    <tr>\n",
       "      <th>TotalBsmtSF</th>\n",
       "      <td>100.0</td>\n",
       "      <td>1047.260000</td>\n",
       "      <td>408.500303</td>\n",
       "      <td>0.0</td>\n",
       "      <td>822.00</td>\n",
       "      <td>1034.5</td>\n",
       "      <td>1268.50</td>\n",
       "      <td>2223.0</td>\n",
       "    </tr>\n",
       "    <tr>\n",
       "      <th>1stFlrSF</th>\n",
       "      <td>100.0</td>\n",
       "      <td>1143.530000</td>\n",
       "      <td>343.400213</td>\n",
       "      <td>520.0</td>\n",
       "      <td>901.50</td>\n",
       "      <td>1091.5</td>\n",
       "      <td>1325.00</td>\n",
       "      <td>2223.0</td>\n",
       "    </tr>\n",
       "    <tr>\n",
       "      <th>2ndFlrSF</th>\n",
       "      <td>100.0</td>\n",
       "      <td>297.210000</td>\n",
       "      <td>436.049768</td>\n",
       "      <td>0.0</td>\n",
       "      <td>0.00</td>\n",
       "      <td>0.0</td>\n",
       "      <td>686.00</td>\n",
       "      <td>1519.0</td>\n",
       "    </tr>\n",
       "    <tr>\n",
       "      <th>LowQualFinSF</th>\n",
       "      <td>100.0</td>\n",
       "      <td>8.730000</td>\n",
       "      <td>62.372918</td>\n",
       "      <td>0.0</td>\n",
       "      <td>0.00</td>\n",
       "      <td>0.0</td>\n",
       "      <td>0.00</td>\n",
       "      <td>513.0</td>\n",
       "    </tr>\n",
       "    <tr>\n",
       "      <th>GrLivArea</th>\n",
       "      <td>100.0</td>\n",
       "      <td>1449.470000</td>\n",
       "      <td>470.657105</td>\n",
       "      <td>520.0</td>\n",
       "      <td>1083.75</td>\n",
       "      <td>1349.5</td>\n",
       "      <td>1717.25</td>\n",
       "      <td>2945.0</td>\n",
       "    </tr>\n",
       "    <tr>\n",
       "      <th>BsmtFullBath</th>\n",
       "      <td>100.0</td>\n",
       "      <td>0.450000</td>\n",
       "      <td>0.519810</td>\n",
       "      <td>0.0</td>\n",
       "      <td>0.00</td>\n",
       "      <td>0.0</td>\n",
       "      <td>1.00</td>\n",
       "      <td>2.0</td>\n",
       "    </tr>\n",
       "    <tr>\n",
       "      <th>BsmtHalfBath</th>\n",
       "      <td>100.0</td>\n",
       "      <td>0.070000</td>\n",
       "      <td>0.256432</td>\n",
       "      <td>0.0</td>\n",
       "      <td>0.00</td>\n",
       "      <td>0.0</td>\n",
       "      <td>0.00</td>\n",
       "      <td>1.0</td>\n",
       "    </tr>\n",
       "    <tr>\n",
       "      <th>FullBath</th>\n",
       "      <td>100.0</td>\n",
       "      <td>1.520000</td>\n",
       "      <td>0.594249</td>\n",
       "      <td>0.0</td>\n",
       "      <td>1.00</td>\n",
       "      <td>1.0</td>\n",
       "      <td>2.00</td>\n",
       "      <td>3.0</td>\n",
       "    </tr>\n",
       "    <tr>\n",
       "      <th>HalfBath</th>\n",
       "      <td>100.0</td>\n",
       "      <td>0.320000</td>\n",
       "      <td>0.468826</td>\n",
       "      <td>0.0</td>\n",
       "      <td>0.00</td>\n",
       "      <td>0.0</td>\n",
       "      <td>1.00</td>\n",
       "      <td>1.0</td>\n",
       "    </tr>\n",
       "    <tr>\n",
       "      <th>BedroomAbvGr</th>\n",
       "      <td>100.0</td>\n",
       "      <td>2.710000</td>\n",
       "      <td>0.728843</td>\n",
       "      <td>0.0</td>\n",
       "      <td>2.00</td>\n",
       "      <td>3.0</td>\n",
       "      <td>3.00</td>\n",
       "      <td>4.0</td>\n",
       "    </tr>\n",
       "    <tr>\n",
       "      <th>KitchenAbvGr</th>\n",
       "      <td>100.0</td>\n",
       "      <td>1.090000</td>\n",
       "      <td>0.320826</td>\n",
       "      <td>1.0</td>\n",
       "      <td>1.00</td>\n",
       "      <td>1.0</td>\n",
       "      <td>1.00</td>\n",
       "      <td>3.0</td>\n",
       "    </tr>\n",
       "    <tr>\n",
       "      <th>TotRmsAbvGrd</th>\n",
       "      <td>100.0</td>\n",
       "      <td>6.270000</td>\n",
       "      <td>1.420307</td>\n",
       "      <td>4.0</td>\n",
       "      <td>5.00</td>\n",
       "      <td>6.0</td>\n",
       "      <td>7.00</td>\n",
       "      <td>11.0</td>\n",
       "    </tr>\n",
       "    <tr>\n",
       "      <th>Fireplaces</th>\n",
       "      <td>100.0</td>\n",
       "      <td>0.530000</td>\n",
       "      <td>0.626921</td>\n",
       "      <td>0.0</td>\n",
       "      <td>0.00</td>\n",
       "      <td>0.0</td>\n",
       "      <td>1.00</td>\n",
       "      <td>2.0</td>\n",
       "    </tr>\n",
       "    <tr>\n",
       "      <th>GarageYrBlt</th>\n",
       "      <td>94.0</td>\n",
       "      <td>1977.361702</td>\n",
       "      <td>26.604572</td>\n",
       "      <td>1900.0</td>\n",
       "      <td>1961.25</td>\n",
       "      <td>1979.0</td>\n",
       "      <td>2002.75</td>\n",
       "      <td>2009.0</td>\n",
       "    </tr>\n",
       "    <tr>\n",
       "      <th>GarageCars</th>\n",
       "      <td>100.0</td>\n",
       "      <td>1.750000</td>\n",
       "      <td>0.757121</td>\n",
       "      <td>0.0</td>\n",
       "      <td>1.00</td>\n",
       "      <td>2.0</td>\n",
       "      <td>2.00</td>\n",
       "      <td>3.0</td>\n",
       "    </tr>\n",
       "    <tr>\n",
       "      <th>GarageArea</th>\n",
       "      <td>100.0</td>\n",
       "      <td>466.370000</td>\n",
       "      <td>199.121082</td>\n",
       "      <td>0.0</td>\n",
       "      <td>352.00</td>\n",
       "      <td>480.0</td>\n",
       "      <td>576.00</td>\n",
       "      <td>894.0</td>\n",
       "    </tr>\n",
       "    <tr>\n",
       "      <th>WoodDeckSF</th>\n",
       "      <td>100.0</td>\n",
       "      <td>93.820000</td>\n",
       "      <td>139.576877</td>\n",
       "      <td>0.0</td>\n",
       "      <td>0.00</td>\n",
       "      <td>0.0</td>\n",
       "      <td>149.75</td>\n",
       "      <td>857.0</td>\n",
       "    </tr>\n",
       "    <tr>\n",
       "      <th>OpenPorchSF</th>\n",
       "      <td>100.0</td>\n",
       "      <td>46.900000</td>\n",
       "      <td>59.743306</td>\n",
       "      <td>0.0</td>\n",
       "      <td>0.00</td>\n",
       "      <td>30.0</td>\n",
       "      <td>72.00</td>\n",
       "      <td>258.0</td>\n",
       "    </tr>\n",
       "    <tr>\n",
       "      <th>EnclosedPorch</th>\n",
       "      <td>100.0</td>\n",
       "      <td>24.130000</td>\n",
       "      <td>60.211019</td>\n",
       "      <td>0.0</td>\n",
       "      <td>0.00</td>\n",
       "      <td>0.0</td>\n",
       "      <td>0.00</td>\n",
       "      <td>272.0</td>\n",
       "    </tr>\n",
       "    <tr>\n",
       "      <th>3SsnPorch</th>\n",
       "      <td>100.0</td>\n",
       "      <td>7.270000</td>\n",
       "      <td>51.518724</td>\n",
       "      <td>0.0</td>\n",
       "      <td>0.00</td>\n",
       "      <td>0.0</td>\n",
       "      <td>0.00</td>\n",
       "      <td>407.0</td>\n",
       "    </tr>\n",
       "    <tr>\n",
       "      <th>ScreenPorch</th>\n",
       "      <td>100.0</td>\n",
       "      <td>10.160000</td>\n",
       "      <td>46.908835</td>\n",
       "      <td>0.0</td>\n",
       "      <td>0.00</td>\n",
       "      <td>0.0</td>\n",
       "      <td>0.00</td>\n",
       "      <td>291.0</td>\n",
       "    </tr>\n",
       "    <tr>\n",
       "      <th>PoolArea</th>\n",
       "      <td>100.0</td>\n",
       "      <td>0.000000</td>\n",
       "      <td>0.000000</td>\n",
       "      <td>0.0</td>\n",
       "      <td>0.00</td>\n",
       "      <td>0.0</td>\n",
       "      <td>0.00</td>\n",
       "      <td>0.0</td>\n",
       "    </tr>\n",
       "    <tr>\n",
       "      <th>PoolQC</th>\n",
       "      <td>0.0</td>\n",
       "      <td>NaN</td>\n",
       "      <td>NaN</td>\n",
       "      <td>NaN</td>\n",
       "      <td>NaN</td>\n",
       "      <td>NaN</td>\n",
       "      <td>NaN</td>\n",
       "      <td>NaN</td>\n",
       "    </tr>\n",
       "    <tr>\n",
       "      <th>MiscVal</th>\n",
       "      <td>100.0</td>\n",
       "      <td>46.300000</td>\n",
       "      <td>153.692958</td>\n",
       "      <td>0.0</td>\n",
       "      <td>0.00</td>\n",
       "      <td>0.0</td>\n",
       "      <td>0.00</td>\n",
       "      <td>700.0</td>\n",
       "    </tr>\n",
       "    <tr>\n",
       "      <th>MoSold</th>\n",
       "      <td>100.0</td>\n",
       "      <td>6.330000</td>\n",
       "      <td>3.048613</td>\n",
       "      <td>1.0</td>\n",
       "      <td>4.75</td>\n",
       "      <td>6.0</td>\n",
       "      <td>8.00</td>\n",
       "      <td>12.0</td>\n",
       "    </tr>\n",
       "    <tr>\n",
       "      <th>YrSold</th>\n",
       "      <td>100.0</td>\n",
       "      <td>2007.900000</td>\n",
       "      <td>1.359590</td>\n",
       "      <td>2006.0</td>\n",
       "      <td>2007.00</td>\n",
       "      <td>2008.0</td>\n",
       "      <td>2009.00</td>\n",
       "      <td>2010.0</td>\n",
       "    </tr>\n",
       "    <tr>\n",
       "      <th>SalePrice</th>\n",
       "      <td>100.0</td>\n",
       "      <td>173820.660000</td>\n",
       "      <td>72236.552886</td>\n",
       "      <td>40000.0</td>\n",
       "      <td>129362.50</td>\n",
       "      <td>153750.0</td>\n",
       "      <td>207750.00</td>\n",
       "      <td>438780.0</td>\n",
       "    </tr>\n",
       "  </tbody>\n",
       "</table>\n",
       "</div>"
      ],
      "text/plain": [
       "               count           mean           std      min        25%  \\\n",
       "Unnamed: 0     100.0      49.500000     29.011492      0.0      24.75   \n",
       "Id             100.0      50.500000     29.011492      1.0      25.75   \n",
       "MSSubClass     100.0      52.000000     42.545282     20.0      20.00   \n",
       "LotFrontage     86.0      71.406977     21.093840     21.0      60.00   \n",
       "LotArea        100.0   10115.870000   5130.541763   1596.0    7643.25   \n",
       "OverallQual    100.0       5.980000      1.530696      3.0       5.00   \n",
       "OverallCond    100.0       5.500000      0.979590      2.0       5.00   \n",
       "YearBuilt      100.0    1971.410000     29.373284   1910.0    1954.75   \n",
       "YearRemodAdd   100.0    1983.920000     20.967353   1950.0    1964.75   \n",
       "MasVnrArea     100.0     121.640000    213.553982      0.0       0.00   \n",
       "BsmtFinSF1     100.0     454.560000    462.034922      0.0       0.00   \n",
       "BsmtFinSF2     100.0      33.910000    131.575158      0.0       0.00   \n",
       "BsmtUnfSF      100.0     558.790000    448.599196      0.0     203.00   \n",
       "TotalBsmtSF    100.0    1047.260000    408.500303      0.0     822.00   \n",
       "1stFlrSF       100.0    1143.530000    343.400213    520.0     901.50   \n",
       "2ndFlrSF       100.0     297.210000    436.049768      0.0       0.00   \n",
       "LowQualFinSF   100.0       8.730000     62.372918      0.0       0.00   \n",
       "GrLivArea      100.0    1449.470000    470.657105    520.0    1083.75   \n",
       "BsmtFullBath   100.0       0.450000      0.519810      0.0       0.00   \n",
       "BsmtHalfBath   100.0       0.070000      0.256432      0.0       0.00   \n",
       "FullBath       100.0       1.520000      0.594249      0.0       1.00   \n",
       "HalfBath       100.0       0.320000      0.468826      0.0       0.00   \n",
       "BedroomAbvGr   100.0       2.710000      0.728843      0.0       2.00   \n",
       "KitchenAbvGr   100.0       1.090000      0.320826      1.0       1.00   \n",
       "TotRmsAbvGrd   100.0       6.270000      1.420307      4.0       5.00   \n",
       "Fireplaces     100.0       0.530000      0.626921      0.0       0.00   \n",
       "GarageYrBlt     94.0    1977.361702     26.604572   1900.0    1961.25   \n",
       "GarageCars     100.0       1.750000      0.757121      0.0       1.00   \n",
       "GarageArea     100.0     466.370000    199.121082      0.0     352.00   \n",
       "WoodDeckSF     100.0      93.820000    139.576877      0.0       0.00   \n",
       "OpenPorchSF    100.0      46.900000     59.743306      0.0       0.00   \n",
       "EnclosedPorch  100.0      24.130000     60.211019      0.0       0.00   \n",
       "3SsnPorch      100.0       7.270000     51.518724      0.0       0.00   \n",
       "ScreenPorch    100.0      10.160000     46.908835      0.0       0.00   \n",
       "PoolArea       100.0       0.000000      0.000000      0.0       0.00   \n",
       "PoolQC           0.0            NaN           NaN      NaN        NaN   \n",
       "MiscVal        100.0      46.300000    153.692958      0.0       0.00   \n",
       "MoSold         100.0       6.330000      3.048613      1.0       4.75   \n",
       "YrSold         100.0    2007.900000      1.359590   2006.0    2007.00   \n",
       "SalePrice      100.0  173820.660000  72236.552886  40000.0  129362.50   \n",
       "\n",
       "                    50%        75%       max  \n",
       "Unnamed: 0         49.5      74.25      99.0  \n",
       "Id                 50.5      75.25     100.0  \n",
       "MSSubClass         45.0      60.00     190.0  \n",
       "LotFrontage        70.0      84.00     122.0  \n",
       "LotArea          9595.5   11243.25   50271.0  \n",
       "OverallQual         6.0       7.00      10.0  \n",
       "OverallCond         5.0       6.00       8.0  \n",
       "YearBuilt        1970.0    2000.25    2009.0  \n",
       "YearRemodAdd     1994.0    2003.25    2009.0  \n",
       "MasVnrArea          0.0     188.50    1115.0  \n",
       "BsmtFinSF1        416.0     737.50    1880.0  \n",
       "BsmtFinSF2          0.0       0.00     712.0  \n",
       "BsmtUnfSF         440.0     820.00    1777.0  \n",
       "TotalBsmtSF      1034.5    1268.50    2223.0  \n",
       "1stFlrSF         1091.5    1325.00    2223.0  \n",
       "2ndFlrSF            0.0     686.00    1519.0  \n",
       "LowQualFinSF        0.0       0.00     513.0  \n",
       "GrLivArea        1349.5    1717.25    2945.0  \n",
       "BsmtFullBath        0.0       1.00       2.0  \n",
       "BsmtHalfBath        0.0       0.00       1.0  \n",
       "FullBath            1.0       2.00       3.0  \n",
       "HalfBath            0.0       1.00       1.0  \n",
       "BedroomAbvGr        3.0       3.00       4.0  \n",
       "KitchenAbvGr        1.0       1.00       3.0  \n",
       "TotRmsAbvGrd        6.0       7.00      11.0  \n",
       "Fireplaces          0.0       1.00       2.0  \n",
       "GarageYrBlt      1979.0    2002.75    2009.0  \n",
       "GarageCars          2.0       2.00       3.0  \n",
       "GarageArea        480.0     576.00     894.0  \n",
       "WoodDeckSF          0.0     149.75     857.0  \n",
       "OpenPorchSF        30.0      72.00     258.0  \n",
       "EnclosedPorch       0.0       0.00     272.0  \n",
       "3SsnPorch           0.0       0.00     407.0  \n",
       "ScreenPorch         0.0       0.00     291.0  \n",
       "PoolArea            0.0       0.00       0.0  \n",
       "PoolQC              NaN        NaN       NaN  \n",
       "MiscVal             0.0       0.00     700.0  \n",
       "MoSold              6.0       8.00      12.0  \n",
       "YrSold           2008.0    2009.00    2010.0  \n",
       "SalePrice      153750.0  207750.00  438780.0  "
      ]
     },
     "execution_count": 4,
     "metadata": {},
     "output_type": "execute_result"
    }
   ],
   "source": [
    "data.describe().T"
   ]
  },
  {
   "cell_type": "markdown",
   "metadata": {},
   "source": [
    "[Back to top](#Index)\n",
    "\n",
    "### 2.2 Data Exploration"
   ]
  },
  {
   "cell_type": "markdown",
   "metadata": {},
   "source": [
    "I think that the most important properties of the house is the overall quality and condition of the house, and the year the house was build in. Lets have a look whether my assumption is correct or not. But before that I will show the distribution of the prices of houses. It appears that the distribution is not really normal, it's right-skewed distribution."
   ]
  },
  {
   "cell_type": "code",
   "execution_count": 5,
   "metadata": {},
   "outputs": [
    {
     "data": {
      "text/plain": [
       "Text(0, 0.5, 'number of houses')"
      ]
     },
     "execution_count": 5,
     "metadata": {},
     "output_type": "execute_result"
    },
    {
     "data": {
      "image/png": "[encoded data removed]",
      "text/plain": [
       "<Figure size 432x288 with 1 Axes>"
      ]
     },
     "metadata": {
      "needs_background": "light"
     },
     "output_type": "display_data"
    }
   ],
   "source": [
    "plt.hist(data[\"SalePrice\"])\n",
    "plt.title(\"Distribution of prices of houses\")\n",
    "plt.xlabel(\"price in $\")\n",
    "plt.ylabel(\"number of houses\")"
   ]
  },
  {
   "cell_type": "code",
   "execution_count": 6,
   "metadata": {},
   "outputs": [
    {
     "data": {
      "image/png": "[encoded data removed]",
      "text/plain": [
       "<Figure size 432x288 with 1 Axes>"
      ]
     },
     "metadata": {
      "needs_background": "light"
     },
     "output_type": "display_data"
    },
    {
     "data": {
      "image/png": "[encoded data removed]",
      "text/plain": [
       "<Figure size 432x288 with 1 Axes>"
      ]
     },
     "metadata": {
      "needs_background": "light"
     },
     "output_type": "display_data"
    },
    {
     "data": {
      "image/png": "[encoded data removed]",
      "text/plain": [
       "<Figure size 432x288 with 1 Axes>"
      ]
     },
     "metadata": {
      "needs_background": "light"
     },
     "output_type": "display_data"
    }
   ],
   "source": [
    "properties = [\"OverallQual\", \"OverallCond\", \"YearBuilt\"]\n",
    "\n",
    "for i in properties:\n",
    "    plt.figure()\n",
    "    plt.title(f\"SalePrice relationship with {i}\")\n",
    "    plt.ylabel(\"price in $\")\n",
    "    plt.xlabel(i)\n",
    "    plt.scatter(data[i], data[\"SalePrice\"])"
   ]
  },
  {
   "cell_type": "markdown",
   "metadata": {},
   "source": [
    "It seems that not all of my assumtions were correct. All the plots show how this properties correlate with SalePrice, the first one - overall quality of the house shows some positive correcation as the price of a house rises with the rise of a quality of the house.The same is with the year the house was built in, though the correlation is smaller. But with overall condition of the house on the second plot the price of the house doesn't correlate at all, may be because the description of this property doesn't state what a condition of the house is exactely."
   ]
  },
  {
   "cell_type": "markdown",
   "metadata": {},
   "source": [
    "[Back to top](#Index)\n",
    "\n",
    "### 2.3 Data Preparation"
   ]
  },
  {
   "cell_type": "markdown",
   "metadata": {},
   "source": [
    "The next step of my project is data cleaning. At first I looked at how many messing values my data has. Columns \"Unnamed: 0\", and \"Id\" doesn't represent anything informative for a Machine Learning model I will build later, so I will remove them now. Also, I will drop all the columns that has more than 15% missing values."
   ]
  },
  {
   "cell_type": "code",
   "execution_count": 7,
   "metadata": {
    "scrolled": true
   },
   "outputs": [
    {
     "data": {
      "text/plain": [
       "LotFrontage      14\n",
       "Alley            94\n",
       "BsmtQual          3\n",
       "BsmtCond          3\n",
       "BsmtExposure      3\n",
       "BsmtFinType1      3\n",
       "BsmtFinType2      3\n",
       "FireplaceQu      54\n",
       "GarageType        6\n",
       "GarageYrBlt       6\n",
       "GarageFinish      6\n",
       "GarageQual        6\n",
       "GarageCond        6\n",
       "PoolQC          100\n",
       "Fence            77\n",
       "MiscFeature      91\n",
       "dtype: int64"
      ]
     },
     "execution_count": 7,
     "metadata": {},
     "output_type": "execute_result"
    }
   ],
   "source": [
    "data.isna().sum()[data.isna().sum() > 0]"
   ]
  },
  {
   "cell_type": "code",
   "execution_count": 8,
   "metadata": {},
   "outputs": [],
   "source": [
    "data.drop([\"Unnamed: 0\", \"Id\"], axis=1, inplace=True)\n",
    "data.dropna(thresh=85, axis=1, inplace=True)"
   ]
  },
  {
   "cell_type": "markdown",
   "metadata": {},
   "source": [
    "The next step is checking whether my dataset has any duplicate rows, it seems there is no."
   ]
  },
  {
   "cell_type": "code",
   "execution_count": 9,
   "metadata": {},
   "outputs": [
    {
     "name": "stdout",
     "output_type": "stream",
     "text": [
      "Number of duplicate rows :  0\n"
     ]
    }
   ],
   "source": [
    "duplicate_rows = data[data.duplicated()]\n",
    "print(\"Number of duplicate rows : \", duplicate_rows.shape[0])"
   ]
  },
  {
   "cell_type": "markdown",
   "metadata": {},
   "source": [
    "Now, when the dataset is left with some minor missing values I will remove all the columns that contain only one single possible value(there is 2 such columns at the moment), then I will replace all the numerical missing values with the mean of all the non-missing values."
   ]
  },
  {
   "cell_type": "code",
   "execution_count": 10,
   "metadata": {},
   "outputs": [
    {
     "name": "stdout",
     "output_type": "stream",
     "text": [
      "Number of missing values: 59\n"
     ]
    }
   ],
   "source": [
    "print(f\"Number of missing values: {data.isna().sum()[data.isna().sum() > 0].sum()}\")"
   ]
  },
  {
   "cell_type": "code",
   "execution_count": 11,
   "metadata": {},
   "outputs": [],
   "source": [
    "for key, value in data.iteritems():\n",
    "    if data[key].dtypes in [\"Int64\", \"float64\"]:\n",
    "        data[key].fillna(data[key].mean(), inplace=True)"
   ]
  },
  {
   "cell_type": "code",
   "execution_count": 12,
   "metadata": {},
   "outputs": [],
   "source": [
    "data = data.loc[:, data.nunique() > 1]"
   ]
  },
  {
   "cell_type": "code",
   "execution_count": 13,
   "metadata": {},
   "outputs": [
    {
     "data": {
      "text/html": [
       "<div>\n",
       "<style scoped>\n",
       "    .dataframe tbody tr th:only-of-type {\n",
       "        vertical-align: middle;\n",
       "    }\n",
       "\n",
       "    .dataframe tbody tr th {\n",
       "        vertical-align: top;\n",
       "    }\n",
       "\n",
       "    .dataframe thead th {\n",
       "        text-align: right;\n",
       "    }\n",
       "</style>\n",
       "<table border=\"1\" class=\"dataframe\">\n",
       "  <thead>\n",
       "    <tr style=\"text-align: right;\">\n",
       "      <th></th>\n",
       "      <th>MSSubClass</th>\n",
       "      <th>MSZoning</th>\n",
       "      <th>LotFrontage</th>\n",
       "      <th>LotArea</th>\n",
       "      <th>Street</th>\n",
       "      <th>LotShape</th>\n",
       "      <th>LandContour</th>\n",
       "      <th>LotConfig</th>\n",
       "      <th>LandSlope</th>\n",
       "      <th>Neighborhood</th>\n",
       "      <th>...</th>\n",
       "      <th>OpenPorchSF</th>\n",
       "      <th>EnclosedPorch</th>\n",
       "      <th>3SsnPorch</th>\n",
       "      <th>ScreenPorch</th>\n",
       "      <th>MiscVal</th>\n",
       "      <th>MoSold</th>\n",
       "      <th>YrSold</th>\n",
       "      <th>SaleType</th>\n",
       "      <th>SaleCondition</th>\n",
       "      <th>SalePrice</th>\n",
       "    </tr>\n",
       "  </thead>\n",
       "  <tbody>\n",
       "    <tr>\n",
       "      <th>0</th>\n",
       "      <td>60</td>\n",
       "      <td>RL</td>\n",
       "      <td>65.0</td>\n",
       "      <td>8450</td>\n",
       "      <td>Pave</td>\n",
       "      <td>Reg</td>\n",
       "      <td>Lvl</td>\n",
       "      <td>Inside</td>\n",
       "      <td>Gtl</td>\n",
       "      <td>CollgCr</td>\n",
       "      <td>...</td>\n",
       "      <td>61</td>\n",
       "      <td>0</td>\n",
       "      <td>0</td>\n",
       "      <td>0</td>\n",
       "      <td>0</td>\n",
       "      <td>2</td>\n",
       "      <td>2008</td>\n",
       "      <td>WD</td>\n",
       "      <td>Normal</td>\n",
       "      <td>208500</td>\n",
       "    </tr>\n",
       "    <tr>\n",
       "      <th>1</th>\n",
       "      <td>20</td>\n",
       "      <td>RL</td>\n",
       "      <td>80.0</td>\n",
       "      <td>9600</td>\n",
       "      <td>Pave</td>\n",
       "      <td>Reg</td>\n",
       "      <td>Lvl</td>\n",
       "      <td>FR2</td>\n",
       "      <td>Gtl</td>\n",
       "      <td>Veenker</td>\n",
       "      <td>...</td>\n",
       "      <td>0</td>\n",
       "      <td>0</td>\n",
       "      <td>0</td>\n",
       "      <td>0</td>\n",
       "      <td>0</td>\n",
       "      <td>5</td>\n",
       "      <td>2007</td>\n",
       "      <td>WD</td>\n",
       "      <td>Normal</td>\n",
       "      <td>181500</td>\n",
       "    </tr>\n",
       "    <tr>\n",
       "      <th>2</th>\n",
       "      <td>60</td>\n",
       "      <td>RL</td>\n",
       "      <td>68.0</td>\n",
       "      <td>11250</td>\n",
       "      <td>Pave</td>\n",
       "      <td>IR1</td>\n",
       "      <td>Lvl</td>\n",
       "      <td>Inside</td>\n",
       "      <td>Gtl</td>\n",
       "      <td>CollgCr</td>\n",
       "      <td>...</td>\n",
       "      <td>42</td>\n",
       "      <td>0</td>\n",
       "      <td>0</td>\n",
       "      <td>0</td>\n",
       "      <td>0</td>\n",
       "      <td>9</td>\n",
       "      <td>2008</td>\n",
       "      <td>WD</td>\n",
       "      <td>Normal</td>\n",
       "      <td>223500</td>\n",
       "    </tr>\n",
       "    <tr>\n",
       "      <th>3</th>\n",
       "      <td>70</td>\n",
       "      <td>RL</td>\n",
       "      <td>60.0</td>\n",
       "      <td>9550</td>\n",
       "      <td>Pave</td>\n",
       "      <td>IR1</td>\n",
       "      <td>Lvl</td>\n",
       "      <td>Corner</td>\n",
       "      <td>Gtl</td>\n",
       "      <td>Crawfor</td>\n",
       "      <td>...</td>\n",
       "      <td>35</td>\n",
       "      <td>272</td>\n",
       "      <td>0</td>\n",
       "      <td>0</td>\n",
       "      <td>0</td>\n",
       "      <td>2</td>\n",
       "      <td>2006</td>\n",
       "      <td>WD</td>\n",
       "      <td>Abnorml</td>\n",
       "      <td>140000</td>\n",
       "    </tr>\n",
       "    <tr>\n",
       "      <th>4</th>\n",
       "      <td>60</td>\n",
       "      <td>RL</td>\n",
       "      <td>84.0</td>\n",
       "      <td>14260</td>\n",
       "      <td>Pave</td>\n",
       "      <td>IR1</td>\n",
       "      <td>Lvl</td>\n",
       "      <td>FR2</td>\n",
       "      <td>Gtl</td>\n",
       "      <td>NoRidge</td>\n",
       "      <td>...</td>\n",
       "      <td>84</td>\n",
       "      <td>0</td>\n",
       "      <td>0</td>\n",
       "      <td>0</td>\n",
       "      <td>0</td>\n",
       "      <td>12</td>\n",
       "      <td>2008</td>\n",
       "      <td>WD</td>\n",
       "      <td>Normal</td>\n",
       "      <td>250000</td>\n",
       "    </tr>\n",
       "  </tbody>\n",
       "</table>\n",
       "<p>5 rows × 73 columns</p>\n",
       "</div>"
      ],
      "text/plain": [
       "   MSSubClass MSZoning  LotFrontage  LotArea Street LotShape LandContour  \\\n",
       "0          60       RL         65.0     8450   Pave      Reg         Lvl   \n",
       "1          20       RL         80.0     9600   Pave      Reg         Lvl   \n",
       "2          60       RL         68.0    11250   Pave      IR1         Lvl   \n",
       "3          70       RL         60.0     9550   Pave      IR1         Lvl   \n",
       "4          60       RL         84.0    14260   Pave      IR1         Lvl   \n",
       "\n",
       "  LotConfig LandSlope Neighborhood  ... OpenPorchSF EnclosedPorch 3SsnPorch  \\\n",
       "0    Inside       Gtl      CollgCr  ...          61             0         0   \n",
       "1       FR2       Gtl      Veenker  ...           0             0         0   \n",
       "2    Inside       Gtl      CollgCr  ...          42             0         0   \n",
       "3    Corner       Gtl      Crawfor  ...          35           272         0   \n",
       "4       FR2       Gtl      NoRidge  ...          84             0         0   \n",
       "\n",
       "  ScreenPorch  MiscVal  MoSold  YrSold  SaleType SaleCondition SalePrice  \n",
       "0           0        0       2    2008        WD        Normal    208500  \n",
       "1           0        0       5    2007        WD        Normal    181500  \n",
       "2           0        0       9    2008        WD        Normal    223500  \n",
       "3           0        0       2    2006        WD       Abnorml    140000  \n",
       "4           0        0      12    2008        WD        Normal    250000  \n",
       "\n",
       "[5 rows x 73 columns]"
      ]
     },
     "execution_count": 13,
     "metadata": {},
     "output_type": "execute_result"
    }
   ],
   "source": [
    "data.head()"
   ]
  },
  {
   "cell_type": "code",
   "execution_count": 14,
   "metadata": {},
   "outputs": [
    {
     "name": "stdout",
     "output_type": "stream",
     "text": [
      "Number of missing values: 39\n"
     ]
    }
   ],
   "source": [
    "print(f\"Number of missing values: {data.isna().sum()[data.isna().sum() > 0].sum()}\")"
   ]
  },
  {
   "cell_type": "markdown",
   "metadata": {},
   "source": [
    "The important part of my cleaning is __removing the nominal values__ from the dataset. I hope in the near future I will complete the project with converting all of the nominal values into dummy values, but for now to not to make this project and model very complex I will omit them."
   ]
  },
  {
   "cell_type": "code",
   "execution_count": 15,
   "metadata": {},
   "outputs": [],
   "source": [
    "numeric = data.select_dtypes(include=[np.number])"
   ]
  },
  {
   "cell_type": "markdown",
   "metadata": {},
   "source": [
    "The next step is removing outliers, I have recently completed a Machine Learning course from Akita University in Japan and not that long ago I have created a project where I used removal of outliers, and I found this technic very helpful as it allows to build a model with a smaller amount of observations, but only if the quality of this observations is high enough. So, have a look at the ouliers I've found."
   ]
  },
  {
   "cell_type": "code",
   "execution_count": 16,
   "metadata": {},
   "outputs": [
    {
     "data": {
      "image/png": "[encoded data removed]",
      "text/plain": [
       "<Figure size 432x288 with 1 Axes>"
      ]
     },
     "metadata": {
      "needs_background": "light"
     },
     "output_type": "display_data"
    },
    {
     "data": {
      "image/png": "[encoded data removed]",
      "text/plain": [
       "<Figure size 432x288 with 1 Axes>"
      ]
     },
     "metadata": {
      "needs_background": "light"
     },
     "output_type": "display_data"
    },
    {
     "data": {
      "image/png": "[encoded data removed]",
      "text/plain": [
       "<Figure size 432x288 with 1 Axes>"
      ]
     },
     "metadata": {
      "needs_background": "light"
     },
     "output_type": "display_data"
    },
    {
     "data": {
      "image/png": "[encoded data removed]",
      "text/plain": [
       "<Figure size 432x288 with 1 Axes>"
      ]
     },
     "metadata": {
      "needs_background": "light"
     },
     "output_type": "display_data"
    },
    {
     "data": {
      "image/png": "[encoded data removed]",
      "text/plain": [
       "<Figure size 432x288 with 1 Axes>"
      ]
     },
     "metadata": {
      "needs_background": "light"
     },
     "output_type": "display_data"
    },
    {
     "data": {
      "image/png": "[encoded data removed]",
      "text/plain": [
       "<Figure size 432x288 with 1 Axes>"
      ]
     },
     "metadata": {
      "needs_background": "light"
     },
     "output_type": "display_data"
    },
    {
     "data": {
      "image/png": "[encoded data removed]",
      "text/plain": [
       "<Figure size 432x288 with 1 Axes>"
      ]
     },
     "metadata": {
      "needs_background": "light"
     },
     "output_type": "display_data"
    },
    {
     "data": {
      "image/png": "[encoded data removed]",
      "text/plain": [
       "<Figure size 432x288 with 1 Axes>"
      ]
     },
     "metadata": {
      "needs_background": "light"
     },
     "output_type": "display_data"
    },
    {
     "data": {
      "image/png": "[encoded data removed]",
      "text/plain": [
       "<Figure size 432x288 with 1 Axes>"
      ]
     },
     "metadata": {
      "needs_background": "light"
     },
     "output_type": "display_data"
    },
    {
     "data": {
      "image/png": "[encoded data removed]",
      "text/plain": [
       "<Figure size 432x288 with 1 Axes>"
      ]
     },
     "metadata": {
      "needs_background": "light"
     },
     "output_type": "display_data"
    },
    {
     "data": {
      "image/png": "[encoded data removed]",
      "text/plain": [
       "<Figure size 432x288 with 1 Axes>"
      ]
     },
     "metadata": {
      "needs_background": "light"
     },
     "output_type": "display_data"
    },
    {
     "data": {
      "image/png": "[encoded data removed]",
      "text/plain": [
       "<Figure size 432x288 with 1 Axes>"
      ]
     },
     "metadata": {
      "needs_background": "light"
     },
     "output_type": "display_data"
    },
    {
     "data": {
      "image/png": "[encoded data removed]",
      "text/plain": [
       "<Figure size 432x288 with 1 Axes>"
      ]
     },
     "metadata": {
      "needs_background": "light"
     },
     "output_type": "display_data"
    },
    {
     "data": {
      "image/png": "[encoded data removed]",
      "text/plain": [
       "<Figure size 432x288 with 1 Axes>"
      ]
     },
     "metadata": {
      "needs_background": "light"
     },
     "output_type": "display_data"
    },
    {
     "data": {
      "image/png": "[encoded data removed]",
      "text/plain": [
       "<Figure size 432x288 with 1 Axes>"
      ]
     },
     "metadata": {
      "needs_background": "light"
     },
     "output_type": "display_data"
    },
    {
     "data": {
      "image/png": "[encoded data removed]",
      "text/plain": [
       "<Figure size 432x288 with 1 Axes>"
      ]
     },
     "metadata": {
      "needs_background": "light"
     },
     "output_type": "display_data"
    },
    {
     "data": {
      "image/png": "[encoded data removed]",
      "text/plain": [
       "<Figure size 432x288 with 1 Axes>"
      ]
     },
     "metadata": {
      "needs_background": "light"
     },
     "output_type": "display_data"
    },
    {
     "data": {
      "image/png": "[encoded data removed]",
      "text/plain": [
       "<Figure size 432x288 with 1 Axes>"
      ]
     },
     "metadata": {
      "needs_background": "light"
     },
     "output_type": "display_data"
    },
    {
     "data": {
      "image/png": "[encoded data removed]",
      "text/plain": [
       "<Figure size 432x288 with 1 Axes>"
      ]
     },
     "metadata": {
      "needs_background": "light"
     },
     "output_type": "display_data"
    },
    {
     "data": {
      "image/png": "[encoded data removed]",
      "text/plain": [
       "<Figure size 432x288 with 1 Axes>"
      ]
     },
     "metadata": {
      "needs_background": "light"
     },
     "output_type": "display_data"
    },
    {
     "data": {
      "image/png": "[encoded data removed]",
      "text/plain": [
       "<Figure size 432x288 with 1 Axes>"
      ]
     },
     "metadata": {
      "needs_background": "light"
     },
     "output_type": "display_data"
    },
    {
     "data": {
      "image/png": "[encoded data removed]",
      "text/plain": [
       "<Figure size 432x288 with 1 Axes>"
      ]
     },
     "metadata": {
      "needs_background": "light"
     },
     "output_type": "display_data"
    },
    {
     "data": {
      "image/png": "[encoded data removed]",
      "text/plain": [
       "<Figure size 432x288 with 1 Axes>"
      ]
     },
     "metadata": {
      "needs_background": "light"
     },
     "output_type": "display_data"
    },
    {
     "data": {
      "image/png": "[encoded data removed]",
      "text/plain": [
       "<Figure size 432x288 with 1 Axes>"
      ]
     },
     "metadata": {
      "needs_background": "light"
     },
     "output_type": "display_data"
    },
    {
     "data": {
      "image/png": "[encoded data removed]",
      "text/plain": [
       "<Figure size 432x288 with 1 Axes>"
      ]
     },
     "metadata": {
      "needs_background": "light"
     },
     "output_type": "display_data"
    },
    {
     "data": {
      "image/png": "[encoded data removed]",
      "text/plain": [
       "<Figure size 432x288 with 1 Axes>"
      ]
     },
     "metadata": {
      "needs_background": "light"
     },
     "output_type": "display_data"
    },
    {
     "data": {
      "image/png": "[encoded data removed]",
      "text/plain": [
       "<Figure size 432x288 with 1 Axes>"
      ]
     },
     "metadata": {
      "needs_background": "light"
     },
     "output_type": "display_data"
    },
    {
     "data": {
      "image/png": "[encoded data removed]",
      "text/plain": [
       "<Figure size 432x288 with 1 Axes>"
      ]
     },
     "metadata": {
      "needs_background": "light"
     },
     "output_type": "display_data"
    },
    {
     "data": {
      "image/png": "[encoded data removed]",
      "text/plain": [
       "<Figure size 432x288 with 1 Axes>"
      ]
     },
     "metadata": {
      "needs_background": "light"
     },
     "output_type": "display_data"
    },
    {
     "data": {
      "image/png": "[encoded data removed]",
      "text/plain": [
       "<Figure size 432x288 with 1 Axes>"
      ]
     },
     "metadata": {
      "needs_background": "light"
     },
     "output_type": "display_data"
    },
    {
     "data": {
      "image/png": "[encoded data removed]",
      "text/plain": [
       "<Figure size 432x288 with 1 Axes>"
      ]
     },
     "metadata": {
      "needs_background": "light"
     },
     "output_type": "display_data"
    },
    {
     "data": {
      "image/png": "[encoded data removed]",
      "text/plain": [
       "<Figure size 432x288 with 1 Axes>"
      ]
     },
     "metadata": {
      "needs_background": "light"
     },
     "output_type": "display_data"
    },
    {
     "data": {
      "image/png": "[encoded data removed]",
      "text/plain": [
       "<Figure size 432x288 with 1 Axes>"
      ]
     },
     "metadata": {
      "needs_background": "light"
     },
     "output_type": "display_data"
    },
    {
     "data": {
      "image/png": "[encoded data removed]",
      "text/plain": [
       "<Figure size 432x288 with 1 Axes>"
      ]
     },
     "metadata": {
      "needs_background": "light"
     },
     "output_type": "display_data"
    },
    {
     "data": {
      "image/png": "[encoded data removed]",
      "text/plain": [
       "<Figure size 432x288 with 1 Axes>"
      ]
     },
     "metadata": {
      "needs_background": "light"
     },
     "output_type": "display_data"
    },
    {
     "data": {
      "image/png": "[encoded data removed]",
      "text/plain": [
       "<Figure size 432x288 with 1 Axes>"
      ]
     },
     "metadata": {
      "needs_background": "light"
     },
     "output_type": "display_data"
    }
   ],
   "source": [
    "def find_outliers(data):\n",
    "    for key, value in data.iteritems():\n",
    "        plt.figure()\n",
    "        sns.boxplot(x=data[key])\n",
    "        \n",
    "find_outliers(numeric)"
   ]
  },
  {
   "cell_type": "markdown",
   "metadata": {},
   "source": [
    "Next I will implement a Z-score, which is a numerical measurement that describes a value's relationship to the mean of the group to which a value belongs to. I imported this function from the scipy library."
   ]
  },
  {
   "cell_type": "code",
   "execution_count": 17,
   "metadata": {},
   "outputs": [],
   "source": [
    "z = np.abs(stats.zscore(numeric))\n",
    "\n",
    "numeric_without_outliers = numeric[(z<3).all(axis=1)]"
   ]
  },
  {
   "cell_type": "code",
   "execution_count": 18,
   "metadata": {},
   "outputs": [
    {
     "data": {
      "image/png": "[encoded data removed]",
      "text/plain": [
       "<Figure size 432x288 with 1 Axes>"
      ]
     },
     "metadata": {
      "needs_background": "light"
     },
     "output_type": "display_data"
    },
    {
     "data": {
      "image/png": "[encoded data removed]",
      "text/plain": [
       "<Figure size 432x288 with 1 Axes>"
      ]
     },
     "metadata": {
      "needs_background": "light"
     },
     "output_type": "display_data"
    },
    {
     "data": {
      "image/png": "[encoded data removed]",
      "text/plain": [
       "<Figure size 432x288 with 1 Axes>"
      ]
     },
     "metadata": {
      "needs_background": "light"
     },
     "output_type": "display_data"
    },
    {
     "data": {
      "image/png": "[encoded data removed]",
      "text/plain": [
       "<Figure size 432x288 with 1 Axes>"
      ]
     },
     "metadata": {
      "needs_background": "light"
     },
     "output_type": "display_data"
    },
    {
     "data": {
      "image/png": "[encoded data removed]",
      "text/plain": [
       "<Figure size 432x288 with 1 Axes>"
      ]
     },
     "metadata": {
      "needs_background": "light"
     },
     "output_type": "display_data"
    },
    {
     "data": {
      "image/png": "[encoded data removed]",
      "text/plain": [
       "<Figure size 432x288 with 1 Axes>"
      ]
     },
     "metadata": {
      "needs_background": "light"
     },
     "output_type": "display_data"
    },
    {
     "data": {
      "image/png": "[encoded data removed]",
      "text/plain": [
       "<Figure size 432x288 with 1 Axes>"
      ]
     },
     "metadata": {
      "needs_background": "light"
     },
     "output_type": "display_data"
    },
    {
     "data": {
      "image/png": "[encoded data removed]",
      "text/plain": [
       "<Figure size 432x288 with 1 Axes>"
      ]
     },
     "metadata": {
      "needs_background": "light"
     },
     "output_type": "display_data"
    },
    {
     "data": {
      "image/png": "[encoded data removed]",
      "text/plain": [
       "<Figure size 432x288 with 1 Axes>"
      ]
     },
     "metadata": {
      "needs_background": "light"
     },
     "output_type": "display_data"
    },
    {
     "data": {
      "image/png": "[encoded data removed]",
      "text/plain": [
       "<Figure size 432x288 with 1 Axes>"
      ]
     },
     "metadata": {
      "needs_background": "light"
     },
     "output_type": "display_data"
    },
    {
     "data": {
      "image/png": "[encoded data removed]",
      "text/plain": [
       "<Figure size 432x288 with 1 Axes>"
      ]
     },
     "metadata": {
      "needs_background": "light"
     },
     "output_type": "display_data"
    },
    {
     "data": {
      "image/png": "[encoded data removed]",
      "text/plain": [
       "<Figure size 432x288 with 1 Axes>"
      ]
     },
     "metadata": {
      "needs_background": "light"
     },
     "output_type": "display_data"
    },
    {
     "data": {
      "image/png": "[encoded data removed]",
      "text/plain": [
       "<Figure size 432x288 with 1 Axes>"
      ]
     },
     "metadata": {
      "needs_background": "light"
     },
     "output_type": "display_data"
    },
    {
     "data": {
      "image/png": "[encoded data removed]",
      "text/plain": [
       "<Figure size 432x288 with 1 Axes>"
      ]
     },
     "metadata": {
      "needs_background": "light"
     },
     "output_type": "display_data"
    },
    {
     "data": {
      "image/png": "[encoded data removed]",
      "text/plain": [
       "<Figure size 432x288 with 1 Axes>"
      ]
     },
     "metadata": {
      "needs_background": "light"
     },
     "output_type": "display_data"
    },
    {
     "data": {
      "image/png": "[encoded data removed]",
      "text/plain": [
       "<Figure size 432x288 with 1 Axes>"
      ]
     },
     "metadata": {
      "needs_background": "light"
     },
     "output_type": "display_data"
    },
    {
     "data": {
      "image/png": "[encoded data removed]",
      "text/plain": [
       "<Figure size 432x288 with 1 Axes>"
      ]
     },
     "metadata": {
      "needs_background": "light"
     },
     "output_type": "display_data"
    },
    {
     "data": {
      "image/png": "[encoded data removed]",
      "text/plain": [
       "<Figure size 432x288 with 1 Axes>"
      ]
     },
     "metadata": {
      "needs_background": "light"
     },
     "output_type": "display_data"
    },
    {
     "data": {
      "image/png": "[encoded data removed]",
      "text/plain": [
       "<Figure size 432x288 with 1 Axes>"
      ]
     },
     "metadata": {
      "needs_background": "light"
     },
     "output_type": "display_data"
    },
    {
     "data": {
      "image/png": "[encoded data removed]",
      "text/plain": [
       "<Figure size 432x288 with 1 Axes>"
      ]
     },
     "metadata": {
      "needs_background": "light"
     },
     "output_type": "display_data"
    },
    {
     "data": {
      "image/png": "[encoded data removed]",
      "text/plain": [
       "<Figure size 432x288 with 1 Axes>"
      ]
     },
     "metadata": {
      "needs_background": "light"
     },
     "output_type": "display_data"
    },
    {
     "data": {
      "image/png": "[encoded data removed]",
      "text/plain": [
       "<Figure size 432x288 with 1 Axes>"
      ]
     },
     "metadata": {
      "needs_background": "light"
     },
     "output_type": "display_data"
    },
    {
     "data": {
      "image/png": "[encoded data removed]",
      "text/plain": [
       "<Figure size 432x288 with 1 Axes>"
      ]
     },
     "metadata": {
      "needs_background": "light"
     },
     "output_type": "display_data"
    },
    {
     "data": {
      "image/png": "[encoded data removed]",
      "text/plain": [
       "<Figure size 432x288 with 1 Axes>"
      ]
     },
     "metadata": {
      "needs_background": "light"
     },
     "output_type": "display_data"
    },
    {
     "data": {
      "image/png": "[encoded data removed]",
      "text/plain": [
       "<Figure size 432x288 with 1 Axes>"
      ]
     },
     "metadata": {
      "needs_background": "light"
     },
     "output_type": "display_data"
    },
    {
     "data": {
      "image/png": "[encoded data removed]",
      "text/plain": [
       "<Figure size 432x288 with 1 Axes>"
      ]
     },
     "metadata": {
      "needs_background": "light"
     },
     "output_type": "display_data"
    },
    {
     "data": {
      "image/png": "[encoded data removed]",
      "text/plain": [
       "<Figure size 432x288 with 1 Axes>"
      ]
     },
     "metadata": {
      "needs_background": "light"
     },
     "output_type": "display_data"
    },
    {
     "data": {
      "image/png": "[encoded data removed]",
      "text/plain": [
       "<Figure size 432x288 with 1 Axes>"
      ]
     },
     "metadata": {
      "needs_background": "light"
     },
     "output_type": "display_data"
    },
    {
     "data": {
      "image/png": "[encoded data removed]",
      "text/plain": [
       "<Figure size 432x288 with 1 Axes>"
      ]
     },
     "metadata": {
      "needs_background": "light"
     },
     "output_type": "display_data"
    },
    {
     "data": {
      "image/png": "[encoded data removed]",
      "text/plain": [
       "<Figure size 432x288 with 1 Axes>"
      ]
     },
     "metadata": {
      "needs_background": "light"
     },
     "output_type": "display_data"
    },
    {
     "data": {
      "image/png": "[encoded data removed]",
      "text/plain": [
       "<Figure size 432x288 with 1 Axes>"
      ]
     },
     "metadata": {
      "needs_background": "light"
     },
     "output_type": "display_data"
    },
    {
     "data": {
      "image/png": "[encoded data removed]",
      "text/plain": [
       "<Figure size 432x288 with 1 Axes>"
      ]
     },
     "metadata": {
      "needs_background": "light"
     },
     "output_type": "display_data"
    },
    {
     "data": {
      "image/png": "[encoded data removed]",
      "text/plain": [
       "<Figure size 432x288 with 1 Axes>"
      ]
     },
     "metadata": {
      "needs_background": "light"
     },
     "output_type": "display_data"
    },
    {
     "data": {
      "image/png": "[encoded data removed]",
      "text/plain": [
       "<Figure size 432x288 with 1 Axes>"
      ]
     },
     "metadata": {
      "needs_background": "light"
     },
     "output_type": "display_data"
    },
    {
     "data": {
      "image/png": "[encoded data removed]",
      "text/plain": [
       "<Figure size 432x288 with 1 Axes>"
      ]
     },
     "metadata": {
      "needs_background": "light"
     },
     "output_type": "display_data"
    },
    {
     "data": {
      "image/png": "[encoded data removed]",
      "text/plain": [
       "<Figure size 432x288 with 1 Axes>"
      ]
     },
     "metadata": {
      "needs_background": "light"
     },
     "output_type": "display_data"
    }
   ],
   "source": [
    "find_outliers(numeric_without_outliers)"
   ]
  },
  {
   "cell_type": "markdown",
   "metadata": {},
   "source": [
    "Some properties with low variance remained, but I will remove them later when I will use the most correlated variables, as this are not correlated with the dependent variable. Below are displayed both numeric and numeric without outliers dataframes to show the difference, before removing the outliers the dataset contained 100 instances, but after the removal it contains only 87, I discovered that without outliers model performs up to 10 percent better on the train set and up to 5 on the test."
   ]
  },
  {
   "cell_type": "code",
   "execution_count": 19,
   "metadata": {},
   "outputs": [
    {
     "data": {
      "text/html": [
       "<div>\n",
       "<style scoped>\n",
       "    .dataframe tbody tr th:only-of-type {\n",
       "        vertical-align: middle;\n",
       "    }\n",
       "\n",
       "    .dataframe tbody tr th {\n",
       "        vertical-align: top;\n",
       "    }\n",
       "\n",
       "    .dataframe thead th {\n",
       "        text-align: right;\n",
       "    }\n",
       "</style>\n",
       "<table border=\"1\" class=\"dataframe\">\n",
       "  <thead>\n",
       "    <tr style=\"text-align: right;\">\n",
       "      <th></th>\n",
       "      <th>MSSubClass</th>\n",
       "      <th>LotFrontage</th>\n",
       "      <th>LotArea</th>\n",
       "      <th>OverallQual</th>\n",
       "      <th>OverallCond</th>\n",
       "      <th>YearBuilt</th>\n",
       "      <th>YearRemodAdd</th>\n",
       "      <th>MasVnrArea</th>\n",
       "      <th>BsmtFinSF1</th>\n",
       "      <th>BsmtFinSF2</th>\n",
       "      <th>...</th>\n",
       "      <th>GarageArea</th>\n",
       "      <th>WoodDeckSF</th>\n",
       "      <th>OpenPorchSF</th>\n",
       "      <th>EnclosedPorch</th>\n",
       "      <th>3SsnPorch</th>\n",
       "      <th>ScreenPorch</th>\n",
       "      <th>MiscVal</th>\n",
       "      <th>MoSold</th>\n",
       "      <th>YrSold</th>\n",
       "      <th>SalePrice</th>\n",
       "    </tr>\n",
       "  </thead>\n",
       "  <tbody>\n",
       "    <tr>\n",
       "      <th>0</th>\n",
       "      <td>60</td>\n",
       "      <td>65.000000</td>\n",
       "      <td>8450</td>\n",
       "      <td>7</td>\n",
       "      <td>5</td>\n",
       "      <td>2003</td>\n",
       "      <td>2003</td>\n",
       "      <td>196.0</td>\n",
       "      <td>706</td>\n",
       "      <td>0</td>\n",
       "      <td>...</td>\n",
       "      <td>548</td>\n",
       "      <td>0</td>\n",
       "      <td>61</td>\n",
       "      <td>0</td>\n",
       "      <td>0</td>\n",
       "      <td>0</td>\n",
       "      <td>0</td>\n",
       "      <td>2</td>\n",
       "      <td>2008</td>\n",
       "      <td>208500</td>\n",
       "    </tr>\n",
       "    <tr>\n",
       "      <th>1</th>\n",
       "      <td>20</td>\n",
       "      <td>80.000000</td>\n",
       "      <td>9600</td>\n",
       "      <td>6</td>\n",
       "      <td>8</td>\n",
       "      <td>1976</td>\n",
       "      <td>1976</td>\n",
       "      <td>0.0</td>\n",
       "      <td>978</td>\n",
       "      <td>0</td>\n",
       "      <td>...</td>\n",
       "      <td>460</td>\n",
       "      <td>298</td>\n",
       "      <td>0</td>\n",
       "      <td>0</td>\n",
       "      <td>0</td>\n",
       "      <td>0</td>\n",
       "      <td>0</td>\n",
       "      <td>5</td>\n",
       "      <td>2007</td>\n",
       "      <td>181500</td>\n",
       "    </tr>\n",
       "    <tr>\n",
       "      <th>2</th>\n",
       "      <td>60</td>\n",
       "      <td>68.000000</td>\n",
       "      <td>11250</td>\n",
       "      <td>7</td>\n",
       "      <td>5</td>\n",
       "      <td>2001</td>\n",
       "      <td>2002</td>\n",
       "      <td>162.0</td>\n",
       "      <td>486</td>\n",
       "      <td>0</td>\n",
       "      <td>...</td>\n",
       "      <td>608</td>\n",
       "      <td>0</td>\n",
       "      <td>42</td>\n",
       "      <td>0</td>\n",
       "      <td>0</td>\n",
       "      <td>0</td>\n",
       "      <td>0</td>\n",
       "      <td>9</td>\n",
       "      <td>2008</td>\n",
       "      <td>223500</td>\n",
       "    </tr>\n",
       "    <tr>\n",
       "      <th>3</th>\n",
       "      <td>70</td>\n",
       "      <td>60.000000</td>\n",
       "      <td>9550</td>\n",
       "      <td>7</td>\n",
       "      <td>5</td>\n",
       "      <td>1915</td>\n",
       "      <td>1970</td>\n",
       "      <td>0.0</td>\n",
       "      <td>216</td>\n",
       "      <td>0</td>\n",
       "      <td>...</td>\n",
       "      <td>642</td>\n",
       "      <td>0</td>\n",
       "      <td>35</td>\n",
       "      <td>272</td>\n",
       "      <td>0</td>\n",
       "      <td>0</td>\n",
       "      <td>0</td>\n",
       "      <td>2</td>\n",
       "      <td>2006</td>\n",
       "      <td>140000</td>\n",
       "    </tr>\n",
       "    <tr>\n",
       "      <th>4</th>\n",
       "      <td>60</td>\n",
       "      <td>84.000000</td>\n",
       "      <td>14260</td>\n",
       "      <td>8</td>\n",
       "      <td>5</td>\n",
       "      <td>2000</td>\n",
       "      <td>2000</td>\n",
       "      <td>350.0</td>\n",
       "      <td>655</td>\n",
       "      <td>0</td>\n",
       "      <td>...</td>\n",
       "      <td>836</td>\n",
       "      <td>192</td>\n",
       "      <td>84</td>\n",
       "      <td>0</td>\n",
       "      <td>0</td>\n",
       "      <td>0</td>\n",
       "      <td>0</td>\n",
       "      <td>12</td>\n",
       "      <td>2008</td>\n",
       "      <td>250000</td>\n",
       "    </tr>\n",
       "    <tr>\n",
       "      <th>...</th>\n",
       "      <td>...</td>\n",
       "      <td>...</td>\n",
       "      <td>...</td>\n",
       "      <td>...</td>\n",
       "      <td>...</td>\n",
       "      <td>...</td>\n",
       "      <td>...</td>\n",
       "      <td>...</td>\n",
       "      <td>...</td>\n",
       "      <td>...</td>\n",
       "      <td>...</td>\n",
       "      <td>...</td>\n",
       "      <td>...</td>\n",
       "      <td>...</td>\n",
       "      <td>...</td>\n",
       "      <td>...</td>\n",
       "      <td>...</td>\n",
       "      <td>...</td>\n",
       "      <td>...</td>\n",
       "      <td>...</td>\n",
       "      <td>...</td>\n",
       "    </tr>\n",
       "    <tr>\n",
       "      <th>95</th>\n",
       "      <td>60</td>\n",
       "      <td>71.406977</td>\n",
       "      <td>9765</td>\n",
       "      <td>6</td>\n",
       "      <td>8</td>\n",
       "      <td>1993</td>\n",
       "      <td>1993</td>\n",
       "      <td>68.0</td>\n",
       "      <td>310</td>\n",
       "      <td>0</td>\n",
       "      <td>...</td>\n",
       "      <td>420</td>\n",
       "      <td>232</td>\n",
       "      <td>63</td>\n",
       "      <td>0</td>\n",
       "      <td>0</td>\n",
       "      <td>0</td>\n",
       "      <td>480</td>\n",
       "      <td>4</td>\n",
       "      <td>2009</td>\n",
       "      <td>185000</td>\n",
       "    </tr>\n",
       "    <tr>\n",
       "      <th>96</th>\n",
       "      <td>20</td>\n",
       "      <td>78.000000</td>\n",
       "      <td>10264</td>\n",
       "      <td>7</td>\n",
       "      <td>5</td>\n",
       "      <td>1999</td>\n",
       "      <td>1999</td>\n",
       "      <td>183.0</td>\n",
       "      <td>1162</td>\n",
       "      <td>0</td>\n",
       "      <td>...</td>\n",
       "      <td>472</td>\n",
       "      <td>158</td>\n",
       "      <td>29</td>\n",
       "      <td>0</td>\n",
       "      <td>0</td>\n",
       "      <td>0</td>\n",
       "      <td>0</td>\n",
       "      <td>8</td>\n",
       "      <td>2006</td>\n",
       "      <td>214000</td>\n",
       "    </tr>\n",
       "    <tr>\n",
       "      <th>97</th>\n",
       "      <td>20</td>\n",
       "      <td>73.000000</td>\n",
       "      <td>10921</td>\n",
       "      <td>4</td>\n",
       "      <td>5</td>\n",
       "      <td>1965</td>\n",
       "      <td>1965</td>\n",
       "      <td>48.0</td>\n",
       "      <td>520</td>\n",
       "      <td>0</td>\n",
       "      <td>...</td>\n",
       "      <td>432</td>\n",
       "      <td>120</td>\n",
       "      <td>0</td>\n",
       "      <td>0</td>\n",
       "      <td>0</td>\n",
       "      <td>0</td>\n",
       "      <td>0</td>\n",
       "      <td>5</td>\n",
       "      <td>2007</td>\n",
       "      <td>94750</td>\n",
       "    </tr>\n",
       "    <tr>\n",
       "      <th>98</th>\n",
       "      <td>30</td>\n",
       "      <td>85.000000</td>\n",
       "      <td>10625</td>\n",
       "      <td>5</td>\n",
       "      <td>5</td>\n",
       "      <td>1920</td>\n",
       "      <td>1950</td>\n",
       "      <td>0.0</td>\n",
       "      <td>108</td>\n",
       "      <td>0</td>\n",
       "      <td>...</td>\n",
       "      <td>366</td>\n",
       "      <td>0</td>\n",
       "      <td>0</td>\n",
       "      <td>77</td>\n",
       "      <td>0</td>\n",
       "      <td>0</td>\n",
       "      <td>400</td>\n",
       "      <td>5</td>\n",
       "      <td>2010</td>\n",
       "      <td>83000</td>\n",
       "    </tr>\n",
       "    <tr>\n",
       "      <th>99</th>\n",
       "      <td>20</td>\n",
       "      <td>77.000000</td>\n",
       "      <td>9320</td>\n",
       "      <td>4</td>\n",
       "      <td>5</td>\n",
       "      <td>1959</td>\n",
       "      <td>1959</td>\n",
       "      <td>0.0</td>\n",
       "      <td>569</td>\n",
       "      <td>0</td>\n",
       "      <td>...</td>\n",
       "      <td>0</td>\n",
       "      <td>352</td>\n",
       "      <td>0</td>\n",
       "      <td>0</td>\n",
       "      <td>0</td>\n",
       "      <td>0</td>\n",
       "      <td>400</td>\n",
       "      <td>1</td>\n",
       "      <td>2010</td>\n",
       "      <td>128950</td>\n",
       "    </tr>\n",
       "  </tbody>\n",
       "</table>\n",
       "<p>100 rows × 36 columns</p>\n",
       "</div>"
      ],
      "text/plain": [
       "    MSSubClass  LotFrontage  LotArea  OverallQual  OverallCond  YearBuilt  \\\n",
       "0           60    65.000000     8450            7            5       2003   \n",
       "1           20    80.000000     9600            6            8       1976   \n",
       "2           60    68.000000    11250            7            5       2001   \n",
       "3           70    60.000000     9550            7            5       1915   \n",
       "4           60    84.000000    14260            8            5       2000   \n",
       "..         ...          ...      ...          ...          ...        ...   \n",
       "95          60    71.406977     9765            6            8       1993   \n",
       "96          20    78.000000    10264            7            5       1999   \n",
       "97          20    73.000000    10921            4            5       1965   \n",
       "98          30    85.000000    10625            5            5       1920   \n",
       "99          20    77.000000     9320            4            5       1959   \n",
       "\n",
       "    YearRemodAdd  MasVnrArea  BsmtFinSF1  BsmtFinSF2  ...  GarageArea  \\\n",
       "0           2003       196.0         706           0  ...         548   \n",
       "1           1976         0.0         978           0  ...         460   \n",
       "2           2002       162.0         486           0  ...         608   \n",
       "3           1970         0.0         216           0  ...         642   \n",
       "4           2000       350.0         655           0  ...         836   \n",
       "..           ...         ...         ...         ...  ...         ...   \n",
       "95          1993        68.0         310           0  ...         420   \n",
       "96          1999       183.0        1162           0  ...         472   \n",
       "97          1965        48.0         520           0  ...         432   \n",
       "98          1950         0.0         108           0  ...         366   \n",
       "99          1959         0.0         569           0  ...           0   \n",
       "\n",
       "    WoodDeckSF  OpenPorchSF  EnclosedPorch  3SsnPorch  ScreenPorch  MiscVal  \\\n",
       "0            0           61              0          0            0        0   \n",
       "1          298            0              0          0            0        0   \n",
       "2            0           42              0          0            0        0   \n",
       "3            0           35            272          0            0        0   \n",
       "4          192           84              0          0            0        0   \n",
       "..         ...          ...            ...        ...          ...      ...   \n",
       "95         232           63              0          0            0      480   \n",
       "96         158           29              0          0            0        0   \n",
       "97         120            0              0          0            0        0   \n",
       "98           0            0             77          0            0      400   \n",
       "99         352            0              0          0            0      400   \n",
       "\n",
       "    MoSold  YrSold  SalePrice  \n",
       "0        2    2008     208500  \n",
       "1        5    2007     181500  \n",
       "2        9    2008     223500  \n",
       "3        2    2006     140000  \n",
       "4       12    2008     250000  \n",
       "..     ...     ...        ...  \n",
       "95       4    2009     185000  \n",
       "96       8    2006     214000  \n",
       "97       5    2007      94750  \n",
       "98       5    2010      83000  \n",
       "99       1    2010     128950  \n",
       "\n",
       "[100 rows x 36 columns]"
      ]
     },
     "execution_count": 19,
     "metadata": {},
     "output_type": "execute_result"
    }
   ],
   "source": [
    "numeric"
   ]
  },
  {
   "cell_type": "code",
   "execution_count": 20,
   "metadata": {},
   "outputs": [
    {
     "data": {
      "text/html": [
       "<div>\n",
       "<style scoped>\n",
       "    .dataframe tbody tr th:only-of-type {\n",
       "        vertical-align: middle;\n",
       "    }\n",
       "\n",
       "    .dataframe tbody tr th {\n",
       "        vertical-align: top;\n",
       "    }\n",
       "\n",
       "    .dataframe thead th {\n",
       "        text-align: right;\n",
       "    }\n",
       "</style>\n",
       "<table border=\"1\" class=\"dataframe\">\n",
       "  <thead>\n",
       "    <tr style=\"text-align: right;\">\n",
       "      <th></th>\n",
       "      <th>MSSubClass</th>\n",
       "      <th>LotFrontage</th>\n",
       "      <th>LotArea</th>\n",
       "      <th>OverallQual</th>\n",
       "      <th>OverallCond</th>\n",
       "      <th>YearBuilt</th>\n",
       "      <th>YearRemodAdd</th>\n",
       "      <th>MasVnrArea</th>\n",
       "      <th>BsmtFinSF1</th>\n",
       "      <th>BsmtFinSF2</th>\n",
       "      <th>...</th>\n",
       "      <th>GarageArea</th>\n",
       "      <th>WoodDeckSF</th>\n",
       "      <th>OpenPorchSF</th>\n",
       "      <th>EnclosedPorch</th>\n",
       "      <th>3SsnPorch</th>\n",
       "      <th>ScreenPorch</th>\n",
       "      <th>MiscVal</th>\n",
       "      <th>MoSold</th>\n",
       "      <th>YrSold</th>\n",
       "      <th>SalePrice</th>\n",
       "    </tr>\n",
       "  </thead>\n",
       "  <tbody>\n",
       "    <tr>\n",
       "      <th>0</th>\n",
       "      <td>60</td>\n",
       "      <td>65.000000</td>\n",
       "      <td>8450</td>\n",
       "      <td>7</td>\n",
       "      <td>5</td>\n",
       "      <td>2003</td>\n",
       "      <td>2003</td>\n",
       "      <td>196.0</td>\n",
       "      <td>706</td>\n",
       "      <td>0</td>\n",
       "      <td>...</td>\n",
       "      <td>548</td>\n",
       "      <td>0</td>\n",
       "      <td>61</td>\n",
       "      <td>0</td>\n",
       "      <td>0</td>\n",
       "      <td>0</td>\n",
       "      <td>0</td>\n",
       "      <td>2</td>\n",
       "      <td>2008</td>\n",
       "      <td>208500</td>\n",
       "    </tr>\n",
       "    <tr>\n",
       "      <th>2</th>\n",
       "      <td>60</td>\n",
       "      <td>68.000000</td>\n",
       "      <td>11250</td>\n",
       "      <td>7</td>\n",
       "      <td>5</td>\n",
       "      <td>2001</td>\n",
       "      <td>2002</td>\n",
       "      <td>162.0</td>\n",
       "      <td>486</td>\n",
       "      <td>0</td>\n",
       "      <td>...</td>\n",
       "      <td>608</td>\n",
       "      <td>0</td>\n",
       "      <td>42</td>\n",
       "      <td>0</td>\n",
       "      <td>0</td>\n",
       "      <td>0</td>\n",
       "      <td>0</td>\n",
       "      <td>9</td>\n",
       "      <td>2008</td>\n",
       "      <td>223500</td>\n",
       "    </tr>\n",
       "    <tr>\n",
       "      <th>4</th>\n",
       "      <td>60</td>\n",
       "      <td>84.000000</td>\n",
       "      <td>14260</td>\n",
       "      <td>8</td>\n",
       "      <td>5</td>\n",
       "      <td>2000</td>\n",
       "      <td>2000</td>\n",
       "      <td>350.0</td>\n",
       "      <td>655</td>\n",
       "      <td>0</td>\n",
       "      <td>...</td>\n",
       "      <td>836</td>\n",
       "      <td>192</td>\n",
       "      <td>84</td>\n",
       "      <td>0</td>\n",
       "      <td>0</td>\n",
       "      <td>0</td>\n",
       "      <td>0</td>\n",
       "      <td>12</td>\n",
       "      <td>2008</td>\n",
       "      <td>250000</td>\n",
       "    </tr>\n",
       "    <tr>\n",
       "      <th>6</th>\n",
       "      <td>20</td>\n",
       "      <td>75.000000</td>\n",
       "      <td>10084</td>\n",
       "      <td>8</td>\n",
       "      <td>5</td>\n",
       "      <td>2004</td>\n",
       "      <td>2005</td>\n",
       "      <td>186.0</td>\n",
       "      <td>1369</td>\n",
       "      <td>0</td>\n",
       "      <td>...</td>\n",
       "      <td>636</td>\n",
       "      <td>255</td>\n",
       "      <td>57</td>\n",
       "      <td>0</td>\n",
       "      <td>0</td>\n",
       "      <td>0</td>\n",
       "      <td>0</td>\n",
       "      <td>8</td>\n",
       "      <td>2007</td>\n",
       "      <td>307000</td>\n",
       "    </tr>\n",
       "    <tr>\n",
       "      <th>10</th>\n",
       "      <td>20</td>\n",
       "      <td>70.000000</td>\n",
       "      <td>11200</td>\n",
       "      <td>5</td>\n",
       "      <td>5</td>\n",
       "      <td>1965</td>\n",
       "      <td>1965</td>\n",
       "      <td>0.0</td>\n",
       "      <td>906</td>\n",
       "      <td>0</td>\n",
       "      <td>...</td>\n",
       "      <td>384</td>\n",
       "      <td>0</td>\n",
       "      <td>0</td>\n",
       "      <td>0</td>\n",
       "      <td>0</td>\n",
       "      <td>0</td>\n",
       "      <td>0</td>\n",
       "      <td>2</td>\n",
       "      <td>2008</td>\n",
       "      <td>129500</td>\n",
       "    </tr>\n",
       "    <tr>\n",
       "      <th>...</th>\n",
       "      <td>...</td>\n",
       "      <td>...</td>\n",
       "      <td>...</td>\n",
       "      <td>...</td>\n",
       "      <td>...</td>\n",
       "      <td>...</td>\n",
       "      <td>...</td>\n",
       "      <td>...</td>\n",
       "      <td>...</td>\n",
       "      <td>...</td>\n",
       "      <td>...</td>\n",
       "      <td>...</td>\n",
       "      <td>...</td>\n",
       "      <td>...</td>\n",
       "      <td>...</td>\n",
       "      <td>...</td>\n",
       "      <td>...</td>\n",
       "      <td>...</td>\n",
       "      <td>...</td>\n",
       "      <td>...</td>\n",
       "      <td>...</td>\n",
       "    </tr>\n",
       "    <tr>\n",
       "      <th>95</th>\n",
       "      <td>60</td>\n",
       "      <td>71.406977</td>\n",
       "      <td>9765</td>\n",
       "      <td>6</td>\n",
       "      <td>8</td>\n",
       "      <td>1993</td>\n",
       "      <td>1993</td>\n",
       "      <td>68.0</td>\n",
       "      <td>310</td>\n",
       "      <td>0</td>\n",
       "      <td>...</td>\n",
       "      <td>420</td>\n",
       "      <td>232</td>\n",
       "      <td>63</td>\n",
       "      <td>0</td>\n",
       "      <td>0</td>\n",
       "      <td>0</td>\n",
       "      <td>480</td>\n",
       "      <td>4</td>\n",
       "      <td>2009</td>\n",
       "      <td>185000</td>\n",
       "    </tr>\n",
       "    <tr>\n",
       "      <th>96</th>\n",
       "      <td>20</td>\n",
       "      <td>78.000000</td>\n",
       "      <td>10264</td>\n",
       "      <td>7</td>\n",
       "      <td>5</td>\n",
       "      <td>1999</td>\n",
       "      <td>1999</td>\n",
       "      <td>183.0</td>\n",
       "      <td>1162</td>\n",
       "      <td>0</td>\n",
       "      <td>...</td>\n",
       "      <td>472</td>\n",
       "      <td>158</td>\n",
       "      <td>29</td>\n",
       "      <td>0</td>\n",
       "      <td>0</td>\n",
       "      <td>0</td>\n",
       "      <td>0</td>\n",
       "      <td>8</td>\n",
       "      <td>2006</td>\n",
       "      <td>214000</td>\n",
       "    </tr>\n",
       "    <tr>\n",
       "      <th>97</th>\n",
       "      <td>20</td>\n",
       "      <td>73.000000</td>\n",
       "      <td>10921</td>\n",
       "      <td>4</td>\n",
       "      <td>5</td>\n",
       "      <td>1965</td>\n",
       "      <td>1965</td>\n",
       "      <td>48.0</td>\n",
       "      <td>520</td>\n",
       "      <td>0</td>\n",
       "      <td>...</td>\n",
       "      <td>432</td>\n",
       "      <td>120</td>\n",
       "      <td>0</td>\n",
       "      <td>0</td>\n",
       "      <td>0</td>\n",
       "      <td>0</td>\n",
       "      <td>0</td>\n",
       "      <td>5</td>\n",
       "      <td>2007</td>\n",
       "      <td>94750</td>\n",
       "    </tr>\n",
       "    <tr>\n",
       "      <th>98</th>\n",
       "      <td>30</td>\n",
       "      <td>85.000000</td>\n",
       "      <td>10625</td>\n",
       "      <td>5</td>\n",
       "      <td>5</td>\n",
       "      <td>1920</td>\n",
       "      <td>1950</td>\n",
       "      <td>0.0</td>\n",
       "      <td>108</td>\n",
       "      <td>0</td>\n",
       "      <td>...</td>\n",
       "      <td>366</td>\n",
       "      <td>0</td>\n",
       "      <td>0</td>\n",
       "      <td>77</td>\n",
       "      <td>0</td>\n",
       "      <td>0</td>\n",
       "      <td>400</td>\n",
       "      <td>5</td>\n",
       "      <td>2010</td>\n",
       "      <td>83000</td>\n",
       "    </tr>\n",
       "    <tr>\n",
       "      <th>99</th>\n",
       "      <td>20</td>\n",
       "      <td>77.000000</td>\n",
       "      <td>9320</td>\n",
       "      <td>4</td>\n",
       "      <td>5</td>\n",
       "      <td>1959</td>\n",
       "      <td>1959</td>\n",
       "      <td>0.0</td>\n",
       "      <td>569</td>\n",
       "      <td>0</td>\n",
       "      <td>...</td>\n",
       "      <td>0</td>\n",
       "      <td>352</td>\n",
       "      <td>0</td>\n",
       "      <td>0</td>\n",
       "      <td>0</td>\n",
       "      <td>0</td>\n",
       "      <td>400</td>\n",
       "      <td>1</td>\n",
       "      <td>2010</td>\n",
       "      <td>128950</td>\n",
       "    </tr>\n",
       "  </tbody>\n",
       "</table>\n",
       "<p>64 rows × 36 columns</p>\n",
       "</div>"
      ],
      "text/plain": [
       "    MSSubClass  LotFrontage  LotArea  OverallQual  OverallCond  YearBuilt  \\\n",
       "0           60    65.000000     8450            7            5       2003   \n",
       "2           60    68.000000    11250            7            5       2001   \n",
       "4           60    84.000000    14260            8            5       2000   \n",
       "6           20    75.000000    10084            8            5       2004   \n",
       "10          20    70.000000    11200            5            5       1965   \n",
       "..         ...          ...      ...          ...          ...        ...   \n",
       "95          60    71.406977     9765            6            8       1993   \n",
       "96          20    78.000000    10264            7            5       1999   \n",
       "97          20    73.000000    10921            4            5       1965   \n",
       "98          30    85.000000    10625            5            5       1920   \n",
       "99          20    77.000000     9320            4            5       1959   \n",
       "\n",
       "    YearRemodAdd  MasVnrArea  BsmtFinSF1  BsmtFinSF2  ...  GarageArea  \\\n",
       "0           2003       196.0         706           0  ...         548   \n",
       "2           2002       162.0         486           0  ...         608   \n",
       "4           2000       350.0         655           0  ...         836   \n",
       "6           2005       186.0        1369           0  ...         636   \n",
       "10          1965         0.0         906           0  ...         384   \n",
       "..           ...         ...         ...         ...  ...         ...   \n",
       "95          1993        68.0         310           0  ...         420   \n",
       "96          1999       183.0        1162           0  ...         472   \n",
       "97          1965        48.0         520           0  ...         432   \n",
       "98          1950         0.0         108           0  ...         366   \n",
       "99          1959         0.0         569           0  ...           0   \n",
       "\n",
       "    WoodDeckSF  OpenPorchSF  EnclosedPorch  3SsnPorch  ScreenPorch  MiscVal  \\\n",
       "0            0           61              0          0            0        0   \n",
       "2            0           42              0          0            0        0   \n",
       "4          192           84              0          0            0        0   \n",
       "6          255           57              0          0            0        0   \n",
       "10           0            0              0          0            0        0   \n",
       "..         ...          ...            ...        ...          ...      ...   \n",
       "95         232           63              0          0            0      480   \n",
       "96         158           29              0          0            0        0   \n",
       "97         120            0              0          0            0        0   \n",
       "98           0            0             77          0            0      400   \n",
       "99         352            0              0          0            0      400   \n",
       "\n",
       "    MoSold  YrSold  SalePrice  \n",
       "0        2    2008     208500  \n",
       "2        9    2008     223500  \n",
       "4       12    2008     250000  \n",
       "6        8    2007     307000  \n",
       "10       2    2008     129500  \n",
       "..     ...     ...        ...  \n",
       "95       4    2009     185000  \n",
       "96       8    2006     214000  \n",
       "97       5    2007      94750  \n",
       "98       5    2010      83000  \n",
       "99       1    2010     128950  \n",
       "\n",
       "[64 rows x 36 columns]"
      ]
     },
     "execution_count": 20,
     "metadata": {},
     "output_type": "execute_result"
    }
   ],
   "source": [
    "numeric_without_outliers"
   ]
  },
  {
   "cell_type": "markdown",
   "metadata": {},
   "source": [
    "In conclusion I will say that cleaning the data in my opinion is the most important part of building a ML Model and accuracy of model greatly depends on quality of cleaning. Before cleaning I had 82 columns and 100 rows, after cleaning the dataset is left with 64 rows and 36 columns."
   ]
  },
  {
   "cell_type": "markdown",
   "metadata": {},
   "source": [
    "[Back to top](#Index)\n",
    "\n",
    "### 2.4 Correlation"
   ]
  },
  {
   "cell_type": "markdown",
   "metadata": {},
   "source": [
    "Below I created a heatmap of 14 most correlated with SalePrice properties, thus properties, that vary together with the price of the house. Almost all the properties in the cleaned dataset have positive correlation with the price, some are negative but they are near the 0 so there is no correlation with them at all. The most correlated properties are OverallQual, GrLivArea, YearBuilt, GarageCars, FullBath, GarageYrBlt and GarageArea. Correlation gives a big insight into making a ML model, because the properties that are not correlated with the target property act like a junk among the usefull staff, they worsen a model. There is only 14 of the most correlated values, i.e almost all the values that have a correlation with the dependent variable > 60. So, later I will explore what is the most optimal number of variables."
   ]
  },
  {
   "cell_type": "code",
   "execution_count": 31,
   "metadata": {},
   "outputs": [
    {
     "data": {
      "text/plain": [
       "Text(0.5, 1.0, 'Pearson Correlation')"
      ]
     },
     "execution_count": 31,
     "metadata": {},
     "output_type": "execute_result"
    },
    {
     "data": {
      "image/png": "[encoded data removed]",
      "text/plain": [
       "<Figure size 720x720 with 2 Axes>"
      ]
     },
     "metadata": {
      "needs_background": "light"
     },
     "output_type": "display_data"
    }
   ],
   "source": [
    "corr = numeric_without_outliers.corr()\n",
    "cols = corr['SalePrice'].sort_values(ascending=False)[0:15].index\n",
    "\n",
    "pearsonCorr = numeric_without_outliers[cols].corr(method='pearson')\n",
    "fig = plt.subplots(figsize=(10, 10))\n",
    "sns.heatmap(pearsonCorr, vmin=-1,vmax=1, cmap = \"Blues\", annot=True,\n",
    "linewidth=0.1)\n",
    "plt.title(\"Pearson Correlation\")"
   ]
  },
  {
   "cell_type": "markdown",
   "metadata": {},
   "source": [
    "\n",
    "[Back to top](#Index)\n",
    "\n",
    "## 3. Project Description\n"
   ]
  },
  {
   "cell_type": "markdown",
   "metadata": {},
   "source": [
    "I have chosen 32 sets of independent variables to build ML models, I decided to chech which number of the most correlated variables leads to the best performance of the model. This sets are the extend to the sets that Dr. Williams have chosen, they give broader understanding of how the number of properties affect the performance of the model. Because I removed the outliers from the dataset (all other cleaning procedures are pretty much the same) the performance of my models are better than Dr. Williams'. However, I tried using not consecutive correlated values and I got worse results. So, I can say that using consecutive most correlated values is the best approach to build a good model, but the number of such values should be determined, because increasing the number of independent variables does not cause score increasing."
   ]
  },
  {
   "cell_type": "markdown",
   "metadata": {},
   "source": [
    "[Back to top](#Index)\n",
    "\n",
    "### 3.1 Linear Regression"
   ]
  },
  {
   "cell_type": "markdown",
   "metadata": {},
   "source": [
    "Linear Regression originally comes from the field of statistics, where it is used to understand the relationship between input and output numerical variables. In Machine Learning it belongs to the class of Supervised Learning, where your main goal is predicting the target variable (label). LR allows predicting the value of a dependent variable based on the values of one or more independent variables. All values have to be numeric for the algorithm to work. When the independent variable is one the algorithm is called Simple Linear Regression, when more than one – Multiple Linear Regression."
   ]
  },
  {
   "cell_type": "markdown",
   "metadata": {},
   "source": [
    "\n",
    "Simple Linear Regression assumes that two variables are linearly related. The main goal of implementing the algorithm is to find the linear function predict the dependent value (y) based on the value of the independent value (x) and represents a line that fits in the scatter plot of corresponding values of x and y. This line is called the regression line and is represented as:"
   ]
  },
  {
   "cell_type": "markdown",
   "metadata": {},
   "source": [
    "$y = B_0 + B_1*x$,\n",
    "\n",
    "where $y$ represents a predicted value $y$,<br>\n",
    "x represents a value of independent variable,<br>\n",
    "coefficient $B_0$ represents the intercept of the line,<br>\n",
    "coefficient $B_1$ represents the slope of the line<br>"
   ]
  },
  {
   "cell_type": "markdown",
   "metadata": {},
   "source": [
    "To create a model values of the coefficients must be estimated, to find the best coefficients the Least Squared principle should be applied.\n",
    "\n",
    "$y = B_0 + B_1 * x + e => e = y - B_0 + B_1 * x$\n",
    "\n",
    "where $e$ is a residual error and the goal is to minimize it.\n"
   ]
  },
  {
   "cell_type": "markdown",
   "metadata": {},
   "source": [
    "To find the smallest error there must be found values of $B_0$ and $B_1$ that will give the smallest value $J(B_0, B_1)$\n",
    "\n",
    "$J(B_0, B_1) = \\frac{1}{2n} * \\sum_{i=1}^{n}e^2$"
   ]
  },
  {
   "cell_type": "markdown",
   "metadata": {},
   "source": [
    "Therefore:\n",
    "\n",
    "$B_1 = \\frac{SS_(xy)}{SS_(xx)}$\n",
    "\n",
    "$B_0 = \\bar{y} - B_1 * \\bar{x}$\n",
    "\n",
    "where $SS_(xy)$ is the sum of cross-deviations of y and x:\n",
    "\n",
    "$SS_(xy) = \\sum_{i=1}^{n}y_ix_i - n\\bar{x}\\bar{y}$\n",
    "\n",
    "and $SS_(xx)$ is the sum of squared deviations of x:\n",
    "\n",
    "$SS_(xx) = \\sum_{i=1}^{n}(x_i)^2 - n\\bar{x}^2$"
   ]
  },
  {
   "cell_type": "markdown",
   "metadata": {},
   "source": [
    "Here is an implementation of a Simple Linear Regression in Python:\n",
    "```\n",
    "def estimate_coefficients(x, y):\n",
    "    # number of observations/points\n",
    "    n = np.size(x)\n",
    "  \n",
    "    # mean of x and y \n",
    "    mean_x = np.mean(x)\n",
    "    mean_y = np.mean(y)\n",
    "  \n",
    "    # calculating the sum of cross-deviations of y and x \n",
    "    SS_xy = np.sum(y*x) - n*mean_y*mean_x\n",
    "    # calculating the sum of squared deviations of x\n",
    "    SS_xx = np.sum(x*x) - n*mean_x**2\n",
    "  \n",
    "    # calculating regression coefficients\n",
    "    B_1 = SS_xy / SS_xx\n",
    "    B_0 = mean_y - B_1*mean_x\n",
    "  \n",
    "    return (B_0, B_1)\n",
    "```"
   ]
  },
  {
   "cell_type": "markdown",
   "metadata": {},
   "source": [
    "After calculating the coeficients a regression line can be plotted and some metric could be used to estimate the performance of the model."
   ]
  },
  {
   "cell_type": "markdown",
   "metadata": {},
   "source": [
    "Multiple Linear Regression is the extension of a Simple LR, it allows to model the relationship between two or more independent variables and one dependent variable. It's represented by:\n",
    "\n",
    "$y = B_0 + B_1*x_1 + B_2*x_2 + ... + B_p*x_p + e$,\n",
    "\n",
    "in addition to the Simple LR's coefficients it has additional ones:<br>\n",
    "slope coefficients $B_p$ for each independent variable<br>\n",
    "$x_p$ - independent variable\n",
    "\n",
    "Algorithm to find $B_0$...$B_p$ coefficients is more complex than finding the coefficients of Simple LR, it involves a lot of manipulations with matrixes."
   ]
  },
  {
   "cell_type": "markdown",
   "metadata": {},
   "source": [
    "Code to define a linear regression object: `reg = linear_model.LinearRegression()`\n",
    "  "
   ]
  },
  {
   "cell_type": "markdown",
   "metadata": {},
   "source": [
    "In my project I will implement both the Simple and Multiple Linear Regressions."
   ]
  },
  {
   "cell_type": "markdown",
   "metadata": {},
   "source": [
    "[Back to top](#Index)\n",
    "\n",
    "### 3.2 Analysis \n",
    "\n",
    "For analysis I decided to take a combination of from one to 30 independent variables and find the best best result a model will give. Then I will walk through the best sets of variables. Also I will include some models with differently correlated variables, to show that the best variables to use are the most correlated."
   ]
  },
  {
   "cell_type": "code",
   "execution_count": 22,
   "metadata": {},
   "outputs": [],
   "source": [
    "def train_model(data):\n",
    "    \"\"\"Function created to show how the accuracy improves after increasing the number of independent variables\"\"\"\n",
    "    train_temp = data\n",
    "    training_list = []\n",
    "    # chose from 1 to 30 independent variables to train models\n",
    "    for i in range(2, 32):\n",
    "        train = train_temp\n",
    "        corr = train.corr()\n",
    "        #choose the variables\n",
    "        cols = corr['SalePrice'].sort_values(ascending=False)[0:i].index\n",
    "\n",
    "        #create a training set of features\n",
    "        train_x = train[cols].drop(['SalePrice'], axis=1)\n",
    "        #training set of a target variable\n",
    "        train_y = train['SalePrice']\n",
    "        \n",
    "        #creation of Linear Regression Model \n",
    "        lr = linear_model.LinearRegression()\n",
    "        model = lr.fit(train_x, train_y)\n",
    "\n",
    "        predictions = model.predict(train_x)\n",
    "        \n",
    "        training_list.append(model.score(train_x, train_y))\n",
    "\n",
    "    #displaying the list of all the combinations of independent variables to compute the value of dependent\n",
    "    result = pd.Series(training_list, index=range(1,31), name=\"Train Score\")\n",
    "    print(f\"R^2 is:\\n{result}\")"
   ]
  },
  {
   "cell_type": "code",
   "execution_count": 33,
   "metadata": {},
   "outputs": [],
   "source": [
    "def model(stop, step=1):\n",
    "    \"\"\"Function created to build a model on a defined set of variables\"\"\"\n",
    "    train = numeric_without_outliers\n",
    "    corr = train.corr()\n",
    "    cols = corr['SalePrice'].sort_values(ascending=False)[0:stop:step].index\n",
    "\n",
    "    train_x = train[cols].drop(['SalePrice'], axis=1)\n",
    "    train_y = train['SalePrice']\n",
    "\n",
    "    lr = linear_model.LinearRegression()\n",
    "    model = lr.fit(train_x, train_y)\n",
    "\n",
    "    predictions = model.predict(train_x)\n",
    "\n",
    "    result = model.score(train_x, train_y)\n",
    "\n",
    "    print(f\"Properties that will be used to predict the sale price: {list(cols)[1:]}\")\n",
    "    print(f\"\\nR^2 is: {result}\")\n",
    "    print(f\"\\nCoeficients: {model.coef_}\")\n",
    "    print(f\"\\nPoint of interception: {model.intercept_}\")\n",
    "    \n",
    "    plt.xlabel(\"Predicted value\")\n",
    "    plt.ylabel(\"Actual value\")\n",
    "    plt.scatter(predictions, train_y)\n",
    "    \n",
    "    plt.figure()\n",
    "    plt.title(\"Error\")\n",
    "    plt.hist(train_y - predictions)"
   ]
  },
  {
   "cell_type": "markdown",
   "metadata": {},
   "source": [
    "The sets of variables I decided to use to show some graphs are following: ['OverallQual', 'GrLivArea', 'YearBuilt', 'FullBath', 'GarageArea', 'GarageYrBlt', 'GarageCars', 'Fireplaces', 'TotalBsmtSF'], ['GrLivArea', 'FullBath', 'GarageYrBlt', 'Fireplaces'], ['YearBuilt', 'GarageYrBlt', 'TotalBsmtSF', 'TotRmsAbvGrd', 'OpenPorchSF'] "
   ]
  },
  {
   "cell_type": "markdown",
   "metadata": {},
   "source": [
    "[Back to top](#Index)\n",
    "\n",
    "### 3.3 Results"
   ]
  },
  {
   "cell_type": "markdown",
   "metadata": {},
   "source": [
    "I will be using the $R^2$ score to measure the ability of my model to fit correctly data. It's a coefficient of determination which determines how well the regression predictions approximate the real data points. \n",
    "\n",
    "The first model is the one that uses: 'OverallQual', 'GrLivArea', 'YearBuilt', 'FullBath', 'GarageArea', 'GarageYrBlt', 'GarageCars', 'Fireplaces', 'TotalBsmtSF' properties to predict the SalePrice. It showed an accuracy score of 0.895, which is a very good result, even better than professor got in his implementation of the model. The error histogram is bell-shaped as it should be."
   ]
  },
  {
   "cell_type": "code",
   "execution_count": 34,
   "metadata": {},
   "outputs": [
    {
     "name": "stdout",
     "output_type": "stream",
     "text": [
      "Properties that will be used to predict the sale price: ['OverallQual', 'GrLivArea', 'YearBuilt', 'FullBath', 'GarageArea', 'GarageYrBlt', 'GarageCars', 'Fireplaces', 'TotalBsmtSF']\n",
      "\n",
      "R^2 is: 0.8953766893685586\n",
      "\n",
      "Coeficients: [ 1.18148182e+04  3.58423858e+01  4.02053827e+02  7.67556292e+03\n",
      "  5.61228904e+01 -1.82136663e+01 -4.30785940e+02  1.92555202e+04\n",
      "  3.09091939e+01]\n",
      "\n",
      "Point of interception: -782272.0030184177\n"
     ]
    },
    {
     "data": {
      "image/png": "[encoded data removed]",
      "text/plain": [
       "<Figure size 432x288 with 1 Axes>"
      ]
     },
     "metadata": {
      "needs_background": "light"
     },
     "output_type": "display_data"
    },
    {
     "data": {
      "image/png": "[encoded data removed]",
      "text/plain": [
       "<Figure size 432x288 with 1 Axes>"
      ]
     },
     "metadata": {
      "needs_background": "light"
     },
     "output_type": "display_data"
    }
   ],
   "source": [
    "model(10)"
   ]
  },
  {
   "cell_type": "markdown",
   "metadata": {},
   "source": [
    "The second model uses a smaller in number and worse-correlated variables: 'GrLivArea', 'FullBath', 'GarageYrBlt', 'Fireplaces'. And has accuracy of 0.8, which is worse than a previous model, error distribution is not as bell-shaped as a distribution of errors of previous model. It's all because of the properties of this variables I predefined at the beginning."
   ]
  },
  {
   "cell_type": "code",
   "execution_count": 35,
   "metadata": {},
   "outputs": [
    {
     "name": "stdout",
     "output_type": "stream",
     "text": [
      "Properties that will be used to predict the sale price: ['GrLivArea', 'FullBath', 'GarageYrBlt', 'Fireplaces']\n",
      "\n",
      "R^2 is: 0.8004204310163787\n",
      "\n",
      "Coeficients: [   56.50857948  7672.99391875  1031.85209838 44209.10089465]\n",
      "\n",
      "Point of interception: -1976263.995112463\n"
     ]
    },
    {
     "data": {
      "image/png": "[encoded data removed]",
      "text/plain": [
       "<Figure size 432x288 with 1 Axes>"
      ]
     },
     "metadata": {
      "needs_background": "light"
     },
     "output_type": "display_data"
    },
    {
     "data": {
      "image/png": "[encoded data removed]",
      "text/plain": [
       "<Figure size 432x288 with 1 Axes>"
      ]
     },
     "metadata": {
      "needs_background": "light"
     },
     "output_type": "display_data"
    }
   ],
   "source": [
    "model(10, 2)"
   ]
  },
  {
   "cell_type": "markdown",
   "metadata": {},
   "source": [
    "The third model uses even more less correlated variables: 'YearBuilt', 'GarageYrBlt', 'TotalBsmtSF', 'TotRmsAbvGrd', 'OpenPorchSF'. And has accuracy score of 0.73, which is the worst result of all three models. The distribution of errors is also not as bell-shaped as the distribution of previous 2 models. "
   ]
  },
  {
   "cell_type": "code",
   "execution_count": 26,
   "metadata": {},
   "outputs": [
    {
     "name": "stdout",
     "output_type": "stream",
     "text": [
      "Properties that will be used to predict the sale price: ['YearBuilt', 'GarageYrBlt', 'TotalBsmtSF', 'TotRmsAbvGrd', 'OpenPorchSF']\n",
      "\n",
      "R^2 is: 0.737403602713381\n",
      "\n",
      "Coeficients: [  700.47543265   364.60662218    47.99153021 17345.66344086\n",
      "   109.74869149]\n",
      "\n",
      "Point of interception: -2095050.3860213459\n"
     ]
    },
    {
     "data": {
      "image/png": "[encoded data removed]",
      "text/plain": [
       "<Figure size 432x288 with 1 Axes>"
      ]
     },
     "metadata": {
      "needs_background": "light"
     },
     "output_type": "display_data"
    },
    {
     "data": {
      "image/png": "[encoded data removed]",
      "text/plain": [
       "<Figure size 432x288 with 1 Axes>"
      ]
     },
     "metadata": {
      "needs_background": "light"
     },
     "output_type": "display_data"
    }
   ],
   "source": [
    "model(16, 3)"
   ]
  },
  {
   "cell_type": "markdown",
   "metadata": {},
   "source": [
    "The next step of building the best model is to choose the best number of independent variables. So, below are the results of using 1 to 30 independent variables to predict the SalePrice. Even if I use only one variable - OverallQual I can predict the price of the house with 0.76 accuracy, which is quite hard, if I use 2 most correlated variables the accuracy becomes 0.816. The more variables model recieves the better the result it gives, which is a good way to show how a model can become biased. It learns some patterns in the train set and to avoid such thing there is a need to test model on the test set. So, I cannot give an answer which variables are the best to predict the SalePrice, but in the next paragraph I will test my model on a test set and will be able to give an answer."
   ]
  },
  {
   "cell_type": "code",
   "execution_count": 27,
   "metadata": {},
   "outputs": [
    {
     "name": "stdout",
     "output_type": "stream",
     "text": [
      "R^2 is:\n",
      "1     0.759997\n",
      "2     0.816574\n",
      "3     0.855808\n",
      "4     0.855998\n",
      "5     0.867248\n",
      "6     0.869305\n",
      "7     0.869573\n",
      "8     0.878657\n",
      "9     0.895377\n",
      "10    0.896163\n",
      "11    0.906333\n",
      "12    0.909655\n",
      "13    0.911040\n",
      "14    0.912394\n",
      "15    0.917646\n",
      "16    0.917992\n",
      "17    0.919297\n",
      "18    0.924385\n",
      "19    0.928372\n",
      "20    0.928372\n",
      "21    0.930138\n",
      "22    0.930321\n",
      "23    0.930334\n",
      "24    0.939316\n",
      "25    0.943891\n",
      "26    0.943891\n",
      "27    0.944367\n",
      "28    0.945061\n",
      "29    0.956302\n",
      "30    0.959335\n",
      "Name: Train Score, dtype: float64\n"
     ]
    }
   ],
   "source": [
    "train_model(numeric_without_outliers)"
   ]
  },
  {
   "cell_type": "markdown",
   "metadata": {},
   "source": [
    "[Back to top](#Index)\n",
    "\n",
    "### 3.4 Verify Your Model Against Test Data"
   ]
  },
  {
   "cell_type": "markdown",
   "metadata": {},
   "source": [
    "After inspecting a test set I discovered some missing value and in order for my model to work I need to replace the numerical missing values with the mean of the property they belong to."
   ]
  },
  {
   "cell_type": "code",
   "execution_count": 28,
   "metadata": {},
   "outputs": [
    {
     "data": {
      "text/html": [
       "<div>\n",
       "<style scoped>\n",
       "    .dataframe tbody tr th:only-of-type {\n",
       "        vertical-align: middle;\n",
       "    }\n",
       "\n",
       "    .dataframe tbody tr th {\n",
       "        vertical-align: top;\n",
       "    }\n",
       "\n",
       "    .dataframe thead th {\n",
       "        text-align: right;\n",
       "    }\n",
       "</style>\n",
       "<table border=\"1\" class=\"dataframe\">\n",
       "  <thead>\n",
       "    <tr style=\"text-align: right;\">\n",
       "      <th></th>\n",
       "      <th>Unnamed: 0</th>\n",
       "      <th>Id</th>\n",
       "      <th>MSSubClass</th>\n",
       "      <th>MSZoning</th>\n",
       "      <th>LotFrontage</th>\n",
       "      <th>LotArea</th>\n",
       "      <th>Street</th>\n",
       "      <th>Alley</th>\n",
       "      <th>LotShape</th>\n",
       "      <th>LandContour</th>\n",
       "      <th>...</th>\n",
       "      <th>PoolArea</th>\n",
       "      <th>PoolQC</th>\n",
       "      <th>Fence</th>\n",
       "      <th>MiscFeature</th>\n",
       "      <th>MiscVal</th>\n",
       "      <th>MoSold</th>\n",
       "      <th>YrSold</th>\n",
       "      <th>SaleType</th>\n",
       "      <th>SaleCondition</th>\n",
       "      <th>SalePrice</th>\n",
       "    </tr>\n",
       "  </thead>\n",
       "  <tbody>\n",
       "    <tr>\n",
       "      <th>0</th>\n",
       "      <td>100</td>\n",
       "      <td>101</td>\n",
       "      <td>20</td>\n",
       "      <td>RL</td>\n",
       "      <td>72.910256</td>\n",
       "      <td>10603</td>\n",
       "      <td>Pave</td>\n",
       "      <td>NaN</td>\n",
       "      <td>IR1</td>\n",
       "      <td>Lvl</td>\n",
       "      <td>...</td>\n",
       "      <td>0</td>\n",
       "      <td>NaN</td>\n",
       "      <td>NaN</td>\n",
       "      <td>NaN</td>\n",
       "      <td>0</td>\n",
       "      <td>2</td>\n",
       "      <td>2010</td>\n",
       "      <td>WD</td>\n",
       "      <td>Normal</td>\n",
       "      <td>205000</td>\n",
       "    </tr>\n",
       "    <tr>\n",
       "      <th>1</th>\n",
       "      <td>101</td>\n",
       "      <td>102</td>\n",
       "      <td>60</td>\n",
       "      <td>RL</td>\n",
       "      <td>77.000000</td>\n",
       "      <td>9206</td>\n",
       "      <td>Pave</td>\n",
       "      <td>NaN</td>\n",
       "      <td>Reg</td>\n",
       "      <td>Lvl</td>\n",
       "      <td>...</td>\n",
       "      <td>0</td>\n",
       "      <td>NaN</td>\n",
       "      <td>NaN</td>\n",
       "      <td>NaN</td>\n",
       "      <td>0</td>\n",
       "      <td>6</td>\n",
       "      <td>2010</td>\n",
       "      <td>WD</td>\n",
       "      <td>Normal</td>\n",
       "      <td>178000</td>\n",
       "    </tr>\n",
       "    <tr>\n",
       "      <th>2</th>\n",
       "      <td>102</td>\n",
       "      <td>103</td>\n",
       "      <td>90</td>\n",
       "      <td>RL</td>\n",
       "      <td>64.000000</td>\n",
       "      <td>7018</td>\n",
       "      <td>Pave</td>\n",
       "      <td>NaN</td>\n",
       "      <td>Reg</td>\n",
       "      <td>Bnk</td>\n",
       "      <td>...</td>\n",
       "      <td>0</td>\n",
       "      <td>NaN</td>\n",
       "      <td>NaN</td>\n",
       "      <td>NaN</td>\n",
       "      <td>0</td>\n",
       "      <td>6</td>\n",
       "      <td>2009</td>\n",
       "      <td>WD</td>\n",
       "      <td>Alloca</td>\n",
       "      <td>118964</td>\n",
       "    </tr>\n",
       "    <tr>\n",
       "      <th>3</th>\n",
       "      <td>103</td>\n",
       "      <td>104</td>\n",
       "      <td>20</td>\n",
       "      <td>RL</td>\n",
       "      <td>94.000000</td>\n",
       "      <td>10402</td>\n",
       "      <td>Pave</td>\n",
       "      <td>NaN</td>\n",
       "      <td>IR1</td>\n",
       "      <td>Lvl</td>\n",
       "      <td>...</td>\n",
       "      <td>0</td>\n",
       "      <td>NaN</td>\n",
       "      <td>NaN</td>\n",
       "      <td>NaN</td>\n",
       "      <td>0</td>\n",
       "      <td>5</td>\n",
       "      <td>2010</td>\n",
       "      <td>WD</td>\n",
       "      <td>Normal</td>\n",
       "      <td>198900</td>\n",
       "    </tr>\n",
       "    <tr>\n",
       "      <th>4</th>\n",
       "      <td>104</td>\n",
       "      <td>105</td>\n",
       "      <td>50</td>\n",
       "      <td>RM</td>\n",
       "      <td>72.910256</td>\n",
       "      <td>7758</td>\n",
       "      <td>Pave</td>\n",
       "      <td>NaN</td>\n",
       "      <td>Reg</td>\n",
       "      <td>Lvl</td>\n",
       "      <td>...</td>\n",
       "      <td>0</td>\n",
       "      <td>NaN</td>\n",
       "      <td>NaN</td>\n",
       "      <td>NaN</td>\n",
       "      <td>0</td>\n",
       "      <td>6</td>\n",
       "      <td>2007</td>\n",
       "      <td>WD</td>\n",
       "      <td>Normal</td>\n",
       "      <td>169500</td>\n",
       "    </tr>\n",
       "    <tr>\n",
       "      <th>...</th>\n",
       "      <td>...</td>\n",
       "      <td>...</td>\n",
       "      <td>...</td>\n",
       "      <td>...</td>\n",
       "      <td>...</td>\n",
       "      <td>...</td>\n",
       "      <td>...</td>\n",
       "      <td>...</td>\n",
       "      <td>...</td>\n",
       "      <td>...</td>\n",
       "      <td>...</td>\n",
       "      <td>...</td>\n",
       "      <td>...</td>\n",
       "      <td>...</td>\n",
       "      <td>...</td>\n",
       "      <td>...</td>\n",
       "      <td>...</td>\n",
       "      <td>...</td>\n",
       "      <td>...</td>\n",
       "      <td>...</td>\n",
       "      <td>...</td>\n",
       "    </tr>\n",
       "    <tr>\n",
       "      <th>95</th>\n",
       "      <td>195</td>\n",
       "      <td>196</td>\n",
       "      <td>160</td>\n",
       "      <td>RL</td>\n",
       "      <td>24.000000</td>\n",
       "      <td>2280</td>\n",
       "      <td>Pave</td>\n",
       "      <td>NaN</td>\n",
       "      <td>Reg</td>\n",
       "      <td>Lvl</td>\n",
       "      <td>...</td>\n",
       "      <td>0</td>\n",
       "      <td>NaN</td>\n",
       "      <td>NaN</td>\n",
       "      <td>NaN</td>\n",
       "      <td>0</td>\n",
       "      <td>7</td>\n",
       "      <td>2009</td>\n",
       "      <td>WD</td>\n",
       "      <td>Normal</td>\n",
       "      <td>148500</td>\n",
       "    </tr>\n",
       "    <tr>\n",
       "      <th>96</th>\n",
       "      <td>196</td>\n",
       "      <td>197</td>\n",
       "      <td>20</td>\n",
       "      <td>RL</td>\n",
       "      <td>79.000000</td>\n",
       "      <td>9416</td>\n",
       "      <td>Pave</td>\n",
       "      <td>NaN</td>\n",
       "      <td>Reg</td>\n",
       "      <td>Lvl</td>\n",
       "      <td>...</td>\n",
       "      <td>0</td>\n",
       "      <td>NaN</td>\n",
       "      <td>NaN</td>\n",
       "      <td>NaN</td>\n",
       "      <td>0</td>\n",
       "      <td>9</td>\n",
       "      <td>2007</td>\n",
       "      <td>New</td>\n",
       "      <td>Partial</td>\n",
       "      <td>311872</td>\n",
       "    </tr>\n",
       "    <tr>\n",
       "      <th>97</th>\n",
       "      <td>197</td>\n",
       "      <td>198</td>\n",
       "      <td>75</td>\n",
       "      <td>RL</td>\n",
       "      <td>174.000000</td>\n",
       "      <td>25419</td>\n",
       "      <td>Pave</td>\n",
       "      <td>NaN</td>\n",
       "      <td>Reg</td>\n",
       "      <td>Lvl</td>\n",
       "      <td>...</td>\n",
       "      <td>512</td>\n",
       "      <td>Ex</td>\n",
       "      <td>GdPrv</td>\n",
       "      <td>NaN</td>\n",
       "      <td>0</td>\n",
       "      <td>3</td>\n",
       "      <td>2006</td>\n",
       "      <td>WD</td>\n",
       "      <td>Abnorml</td>\n",
       "      <td>235000</td>\n",
       "    </tr>\n",
       "    <tr>\n",
       "      <th>98</th>\n",
       "      <td>198</td>\n",
       "      <td>199</td>\n",
       "      <td>75</td>\n",
       "      <td>RM</td>\n",
       "      <td>92.000000</td>\n",
       "      <td>5520</td>\n",
       "      <td>Pave</td>\n",
       "      <td>NaN</td>\n",
       "      <td>Reg</td>\n",
       "      <td>Lvl</td>\n",
       "      <td>...</td>\n",
       "      <td>0</td>\n",
       "      <td>NaN</td>\n",
       "      <td>MnPrv</td>\n",
       "      <td>NaN</td>\n",
       "      <td>0</td>\n",
       "      <td>7</td>\n",
       "      <td>2009</td>\n",
       "      <td>WD</td>\n",
       "      <td>Abnorml</td>\n",
       "      <td>104000</td>\n",
       "    </tr>\n",
       "    <tr>\n",
       "      <th>99</th>\n",
       "      <td>199</td>\n",
       "      <td>200</td>\n",
       "      <td>20</td>\n",
       "      <td>RL</td>\n",
       "      <td>76.000000</td>\n",
       "      <td>9591</td>\n",
       "      <td>Pave</td>\n",
       "      <td>NaN</td>\n",
       "      <td>Reg</td>\n",
       "      <td>Lvl</td>\n",
       "      <td>...</td>\n",
       "      <td>0</td>\n",
       "      <td>NaN</td>\n",
       "      <td>NaN</td>\n",
       "      <td>NaN</td>\n",
       "      <td>0</td>\n",
       "      <td>1</td>\n",
       "      <td>2009</td>\n",
       "      <td>WD</td>\n",
       "      <td>Normal</td>\n",
       "      <td>274900</td>\n",
       "    </tr>\n",
       "  </tbody>\n",
       "</table>\n",
       "<p>100 rows × 82 columns</p>\n",
       "</div>"
      ],
      "text/plain": [
       "    Unnamed: 0   Id  MSSubClass MSZoning  LotFrontage  LotArea Street Alley  \\\n",
       "0          100  101          20       RL    72.910256    10603   Pave   NaN   \n",
       "1          101  102          60       RL    77.000000     9206   Pave   NaN   \n",
       "2          102  103          90       RL    64.000000     7018   Pave   NaN   \n",
       "3          103  104          20       RL    94.000000    10402   Pave   NaN   \n",
       "4          104  105          50       RM    72.910256     7758   Pave   NaN   \n",
       "..         ...  ...         ...      ...          ...      ...    ...   ...   \n",
       "95         195  196         160       RL    24.000000     2280   Pave   NaN   \n",
       "96         196  197          20       RL    79.000000     9416   Pave   NaN   \n",
       "97         197  198          75       RL   174.000000    25419   Pave   NaN   \n",
       "98         198  199          75       RM    92.000000     5520   Pave   NaN   \n",
       "99         199  200          20       RL    76.000000     9591   Pave   NaN   \n",
       "\n",
       "   LotShape LandContour  ... PoolArea PoolQC  Fence MiscFeature MiscVal  \\\n",
       "0       IR1         Lvl  ...        0    NaN    NaN         NaN       0   \n",
       "1       Reg         Lvl  ...        0    NaN    NaN         NaN       0   \n",
       "2       Reg         Bnk  ...        0    NaN    NaN         NaN       0   \n",
       "3       IR1         Lvl  ...        0    NaN    NaN         NaN       0   \n",
       "4       Reg         Lvl  ...        0    NaN    NaN         NaN       0   \n",
       "..      ...         ...  ...      ...    ...    ...         ...     ...   \n",
       "95      Reg         Lvl  ...        0    NaN    NaN         NaN       0   \n",
       "96      Reg         Lvl  ...        0    NaN    NaN         NaN       0   \n",
       "97      Reg         Lvl  ...      512     Ex  GdPrv         NaN       0   \n",
       "98      Reg         Lvl  ...        0    NaN  MnPrv         NaN       0   \n",
       "99      Reg         Lvl  ...        0    NaN    NaN         NaN       0   \n",
       "\n",
       "   MoSold YrSold SaleType  SaleCondition  SalePrice  \n",
       "0       2   2010       WD         Normal     205000  \n",
       "1       6   2010       WD         Normal     178000  \n",
       "2       6   2009       WD         Alloca     118964  \n",
       "3       5   2010       WD         Normal     198900  \n",
       "4       6   2007       WD         Normal     169500  \n",
       "..    ...    ...      ...            ...        ...  \n",
       "95      7   2009       WD         Normal     148500  \n",
       "96      9   2007      New        Partial     311872  \n",
       "97      3   2006       WD        Abnorml     235000  \n",
       "98      7   2009       WD        Abnorml     104000  \n",
       "99      1   2009       WD         Normal     274900  \n",
       "\n",
       "[100 rows x 82 columns]"
      ]
     },
     "execution_count": 28,
     "metadata": {},
     "output_type": "execute_result"
    }
   ],
   "source": [
    "test = pd.read_csv(\"jtest.csv\")\n",
    "test_save = test\n",
    "test_numeric = numeric_without_outliers\n",
    "\n",
    "for key, value in test.iteritems():\n",
    "    if test[key].dtypes in [\"Int64\", \"float64\"]:\n",
    "        test[key].fillna(test[key].mean(), inplace=True)\n",
    "        \n",
    "test"
   ]
  },
  {
   "cell_type": "markdown",
   "metadata": {},
   "source": [
    "One interesting thing I realized is that my train dataset is smaller than a test - 64 instances vs 100, so I think that accuracy could be improved if I have a more standart train/test size of a datasets, lets say 80/20 or 70/30. Nevertheless I repeated the actions I have made in the previous paragraph when I used a test set to show how the accuracy of model performing on the train and test sets. It is obvious that the result of the model on the unseen data is worse than on the train data because the bias is removed and all the patterns a model took from a train set doesn't apply to the test set."
   ]
  },
  {
   "cell_type": "code",
   "execution_count": 44,
   "metadata": {},
   "outputs": [
    {
     "data": {
      "text/html": [
       "<div>\n",
       "<style scoped>\n",
       "    .dataframe tbody tr th:only-of-type {\n",
       "        vertical-align: middle;\n",
       "    }\n",
       "\n",
       "    .dataframe tbody tr th {\n",
       "        vertical-align: top;\n",
       "    }\n",
       "\n",
       "    .dataframe thead th {\n",
       "        text-align: right;\n",
       "    }\n",
       "</style>\n",
       "<table border=\"1\" class=\"dataframe\">\n",
       "  <thead>\n",
       "    <tr style=\"text-align: right;\">\n",
       "      <th></th>\n",
       "      <th>train</th>\n",
       "      <th>test</th>\n",
       "    </tr>\n",
       "  </thead>\n",
       "  <tbody>\n",
       "    <tr>\n",
       "      <th>1</th>\n",
       "      <td>0.759997</td>\n",
       "      <td>0.561683</td>\n",
       "    </tr>\n",
       "    <tr>\n",
       "      <th>2</th>\n",
       "      <td>0.816574</td>\n",
       "      <td>0.698723</td>\n",
       "    </tr>\n",
       "    <tr>\n",
       "      <th>3</th>\n",
       "      <td>0.855808</td>\n",
       "      <td>0.697856</td>\n",
       "    </tr>\n",
       "    <tr>\n",
       "      <th>4</th>\n",
       "      <td>0.855998</td>\n",
       "      <td>0.705156</td>\n",
       "    </tr>\n",
       "    <tr>\n",
       "      <th>5</th>\n",
       "      <td>0.867248</td>\n",
       "      <td>0.732836</td>\n",
       "    </tr>\n",
       "    <tr>\n",
       "      <th>6</th>\n",
       "      <td>0.869305</td>\n",
       "      <td>0.724155</td>\n",
       "    </tr>\n",
       "    <tr>\n",
       "      <th>7</th>\n",
       "      <td>0.869573</td>\n",
       "      <td>0.726623</td>\n",
       "    </tr>\n",
       "    <tr>\n",
       "      <th>8</th>\n",
       "      <td>0.878657</td>\n",
       "      <td>0.758047</td>\n",
       "    </tr>\n",
       "    <tr>\n",
       "      <th>9</th>\n",
       "      <td>0.895377</td>\n",
       "      <td>0.764341</td>\n",
       "    </tr>\n",
       "    <tr>\n",
       "      <th>10</th>\n",
       "      <td>0.896163</td>\n",
       "      <td>0.760279</td>\n",
       "    </tr>\n",
       "    <tr>\n",
       "      <th>11</th>\n",
       "      <td>0.906333</td>\n",
       "      <td>0.772028</td>\n",
       "    </tr>\n",
       "    <tr>\n",
       "      <th>12</th>\n",
       "      <td>0.909655</td>\n",
       "      <td>0.764037</td>\n",
       "    </tr>\n",
       "    <tr>\n",
       "      <th>13</th>\n",
       "      <td>0.911040</td>\n",
       "      <td>0.766217</td>\n",
       "    </tr>\n",
       "    <tr>\n",
       "      <th>14</th>\n",
       "      <td>0.912394</td>\n",
       "      <td>0.793114</td>\n",
       "    </tr>\n",
       "    <tr>\n",
       "      <th>15</th>\n",
       "      <td>0.917646</td>\n",
       "      <td>0.779246</td>\n",
       "    </tr>\n",
       "    <tr>\n",
       "      <th>16</th>\n",
       "      <td>0.917992</td>\n",
       "      <td>0.783585</td>\n",
       "    </tr>\n",
       "    <tr>\n",
       "      <th>17</th>\n",
       "      <td>0.919297</td>\n",
       "      <td>0.787200</td>\n",
       "    </tr>\n",
       "    <tr>\n",
       "      <th>18</th>\n",
       "      <td>0.924385</td>\n",
       "      <td>0.791618</td>\n",
       "    </tr>\n",
       "    <tr>\n",
       "      <th>19</th>\n",
       "      <td>0.928372</td>\n",
       "      <td>0.777894</td>\n",
       "    </tr>\n",
       "    <tr>\n",
       "      <th>20</th>\n",
       "      <td>0.928372</td>\n",
       "      <td>0.776694</td>\n",
       "    </tr>\n",
       "    <tr>\n",
       "      <th>21</th>\n",
       "      <td>0.930138</td>\n",
       "      <td>0.769692</td>\n",
       "    </tr>\n",
       "    <tr>\n",
       "      <th>22</th>\n",
       "      <td>0.930321</td>\n",
       "      <td>0.766924</td>\n",
       "    </tr>\n",
       "    <tr>\n",
       "      <th>23</th>\n",
       "      <td>0.930334</td>\n",
       "      <td>0.763189</td>\n",
       "    </tr>\n",
       "    <tr>\n",
       "      <th>24</th>\n",
       "      <td>0.939316</td>\n",
       "      <td>0.740603</td>\n",
       "    </tr>\n",
       "    <tr>\n",
       "      <th>25</th>\n",
       "      <td>0.943891</td>\n",
       "      <td>0.731103</td>\n",
       "    </tr>\n",
       "    <tr>\n",
       "      <th>26</th>\n",
       "      <td>0.943891</td>\n",
       "      <td>0.731103</td>\n",
       "    </tr>\n",
       "    <tr>\n",
       "      <th>27</th>\n",
       "      <td>0.944367</td>\n",
       "      <td>0.720292</td>\n",
       "    </tr>\n",
       "    <tr>\n",
       "      <th>28</th>\n",
       "      <td>0.945061</td>\n",
       "      <td>0.710312</td>\n",
       "    </tr>\n",
       "    <tr>\n",
       "      <th>29</th>\n",
       "      <td>0.956302</td>\n",
       "      <td>0.733041</td>\n",
       "    </tr>\n",
       "    <tr>\n",
       "      <th>30</th>\n",
       "      <td>0.959335</td>\n",
       "      <td>0.704967</td>\n",
       "    </tr>\n",
       "  </tbody>\n",
       "</table>\n",
       "</div>"
      ],
      "text/plain": [
       "       train      test\n",
       "1   0.759997  0.561683\n",
       "2   0.816574  0.698723\n",
       "3   0.855808  0.697856\n",
       "4   0.855998  0.705156\n",
       "5   0.867248  0.732836\n",
       "6   0.869305  0.724155\n",
       "7   0.869573  0.726623\n",
       "8   0.878657  0.758047\n",
       "9   0.895377  0.764341\n",
       "10  0.896163  0.760279\n",
       "11  0.906333  0.772028\n",
       "12  0.909655  0.764037\n",
       "13  0.911040  0.766217\n",
       "14  0.912394  0.793114\n",
       "15  0.917646  0.779246\n",
       "16  0.917992  0.783585\n",
       "17  0.919297  0.787200\n",
       "18  0.924385  0.791618\n",
       "19  0.928372  0.777894\n",
       "20  0.928372  0.776694\n",
       "21  0.930138  0.769692\n",
       "22  0.930321  0.766924\n",
       "23  0.930334  0.763189\n",
       "24  0.939316  0.740603\n",
       "25  0.943891  0.731103\n",
       "26  0.943891  0.731103\n",
       "27  0.944367  0.720292\n",
       "28  0.945061  0.710312\n",
       "29  0.956302  0.733041\n",
       "30  0.959335  0.704967"
      ]
     },
     "execution_count": 44,
     "metadata": {},
     "output_type": "execute_result"
    }
   ],
   "source": [
    "prediction_14 = 0\n",
    "\n",
    "d = {\"train\":[], \"test\":[]}\n",
    "\n",
    "for i in range(2, 32):\n",
    "    test = test_save\n",
    "    numeric = test_numeric\n",
    "    corr = numeric.corr()\n",
    "    cols = corr['SalePrice'].sort_values(ascending=False)[0:i].index\n",
    "    \n",
    "    train_x = numeric[cols].drop(['SalePrice'], axis=1)\n",
    "    train_y = numeric['SalePrice']\n",
    "\n",
    "    lr = linear_model.LinearRegression()\n",
    "    model = lr.fit(train_x, train_y)\n",
    "\n",
    "    predictions = model.predict(train_x)\n",
    "    \n",
    "    d[\"train\"].append(model.score(train_x, train_y))\n",
    "    test_x = test[cols].drop(['SalePrice'], axis=1)\n",
    "    test_y = test['SalePrice']\n",
    "    \n",
    "    predictions = model.predict(test_x)\n",
    "    if i == 15:\n",
    "        prediction_14 = predictions\n",
    "    d[\"test\"].append(model.score(test_x, test_y))\n",
    "\n",
    "result = pd.DataFrame(d, index=range(1, 31))\n",
    "\n",
    "result"
   ]
  },
  {
   "cell_type": "markdown",
   "metadata": {},
   "source": [
    "So, 14 best correlated with SalePrice properties used in building the model show the best performance: 'OverallQual', 'GrLivArea', 'YearBuilt', 'FullBath',  'GarageArea', 'GarageYrBlt', 'GarageCars', 'Fireplaces', 'TotalBsmtSF', 'MasVnrArea', 'YearRemodAdd', 'TotRmsAbvGrd', 'stFlrSF', 'BedroomAbvGr'. $R^2 = 0.793$, which is better than the performance of the professor's model."
   ]
  },
  {
   "cell_type": "code",
   "execution_count": 45,
   "metadata": {},
   "outputs": [
    {
     "data": {
      "text/plain": [
       "<AxesSubplot:xlabel='Predicted value', ylabel='SalePrice'>"
      ]
     },
     "execution_count": 45,
     "metadata": {},
     "output_type": "execute_result"
    },
    {
     "data": {
      "image/png": "[encoded data removed]",
      "text/plain": [
       "<Figure size 432x288 with 1 Axes>"
      ]
     },
     "metadata": {
      "needs_background": "light"
     },
     "output_type": "display_data"
    }
   ],
   "source": [
    "plt.xlabel(\"Predicted value\")\n",
    "sns.regplot(prediction_14, test_y, ci=None)"
   ]
  },
  {
   "cell_type": "markdown",
   "metadata": {},
   "source": [
    "Below is the distribution of accuracies than model got on a test set."
   ]
  },
  {
   "cell_type": "code",
   "execution_count": 30,
   "metadata": {},
   "outputs": [
    {
     "data": {
      "text/plain": [
       "Text(0.5, 1.0, 'Distribution of accuracies')"
      ]
     },
     "execution_count": 30,
     "metadata": {},
     "output_type": "execute_result"
    },
    {
     "data": {
      "image/png": "[encoded data removed]",
      "text/plain": [
       "<Figure size 432x288 with 1 Axes>"
      ]
     },
     "metadata": {
      "needs_background": "light"
     },
     "output_type": "display_data"
    }
   ],
   "source": [
    "plt.hist(result['test'])\n",
    "plt.title(\"Distribution of accuracies\")"
   ]
  },
  {
   "cell_type": "markdown",
   "metadata": {},
   "source": [
    "After using 18 most correlated values in building the model the accuracy becomes decreasing, that is because all the other properties have low correlation with the target variable and their usage only worsen the result."
   ]
  },
  {
   "cell_type": "markdown",
   "metadata": {},
   "source": [
    "[Back to top](#Index)\n",
    "\n",
    "## Conclusion"
   ]
  },
  {
   "cell_type": "markdown",
   "metadata": {},
   "source": [
    "From the time I have become working on the project I decided that I want to test a lot of different models with different amount of the most correlated properties, and I implemented all the things I have planned. The best score I recieved is $R^2 = 0.793$ on my test set, it's better than the professors score, but it's not very good to use this model to predict a price. If better data cleaning was held and train dataset was bigger I think that I could get a score of 0.85 or even 0.90. May be using a different prediction algorithm, other than a Linear Regression can lead to the better score. Nevertheless, I am ok with my model and I think that the result of the performance is great."
   ]
  },
  {
   "cell_type": "markdown",
   "metadata": {},
   "source": [
    "\n",
    "[Back to top](#Index\n",
    ")\n",
    "## References\n",
    "\n",
    "- Brownlee, Jason. “Linear Regression for Machine Learning” Machine Learning Mastery. March 25, 2016. https://machinelearningmastery.com/linear-regression-for-machine-learning/.\n",
    "- Hayes, Adam. “Z-Score” Investopedia. July 02, 2022. https://www.investopedia.com/terms/z/zscore.asp\n",
    "- Fernando, Jason. “R-Squared Formula, Regression, and Interpretations” Investopedia. September 12, 2021. https://www.investopedia.com/terms/r/r-squared.asp\n",
    "- GeeksforGeeks. \"Linear Regression (Python Implementation)\" GeeksforGeeks. Aug 22, 2022. https://www.geeksforgeeks.org/linear-regression-python-implementation/"
   ]
  },
  {
   "cell_type": "code",
   "execution_count": null,
   "metadata": {},
   "outputs": [],
   "source": []
  }
 ],
 "metadata": {
  "kernelspec": {
   "display_name": "Python 3 (ipykernel)",
   "language": "python",
   "name": "python3"
  },
  "language_info": {
   "codemirror_mode": {
    "name": "ipython",
    "version": 3
   },
   "file_extension": ".py",
   "mimetype": "text/x-python",
   "name": "python",
   "nbconvert_exporter": "python",
   "pygments_lexer": "ipython3",
   "version": "3.9.12"
  }
 },
 "nbformat": 4,
 "nbformat_minor": 4
}
